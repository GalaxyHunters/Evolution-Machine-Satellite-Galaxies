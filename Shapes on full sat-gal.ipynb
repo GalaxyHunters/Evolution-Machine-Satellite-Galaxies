{
 "cells": [
  {
   "cell_type": "markdown",
   "metadata": {},
   "source": [
    "# The Big Lebowski"
   ]
  },
  {
   "cell_type": "markdown",
   "metadata": {},
   "source": [
    "# RUN the following 6 cells"
   ]
  },
  {
   "cell_type": "markdown",
   "metadata": {},
   "source": [
    "# ERRORS:\n",
    "## something wrong with a-c_vecs, figure out why\n",
    "## something wrong with pandas assuming I'm trying to shove an entire list into a single NaN's anus, temp fix : separate all nans and other params, check other versions of pandas, check syntax, look through past code"
   ]
  },
  {
   "cell_type": "code",
   "execution_count": 368,
   "metadata": {},
   "outputs": [],
   "source": [
    "import yt\n",
    "from yt .mods import *\n",
    "from yt import YTArray\n",
    "import pandas as pd\n",
    "import numpy as np\n",
    "import ShapeTensor as st\n",
    "import bisect\n",
    "import time\n",
    "import pickle\n",
    "import matplotlib.pyplot as plt"
   ]
  },
  {
   "cell_type": "code",
   "execution_count": 369,
   "metadata": {},
   "outputs": [],
   "source": [
    "from yt.units import kpc\n",
    "from yt.units import Myr\n",
    "from yt.units import Msun"
   ]
  },
  {
   "cell_type": "code",
   "execution_count": 370,
   "metadata": {},
   "outputs": [],
   "source": [
    "import os\n",
    "import glob\n",
    "import shutil\n",
    "import os\n",
    "from random import choice\n",
    "from string import ascii_uppercase"
   ]
  },
  {
   "cell_type": "code",
   "execution_count": 371,
   "metadata": {},
   "outputs": [],
   "source": [
    "#Disables annoying warnings when creating new columns in sgal_shape_df, expands visibility of dataframes\n",
    "#import warnings\n",
    "#warnings.simplefilter(action='error', category=FutureWarning)\n",
    "pd.options.mode.chained_assignment = None\n",
    "pd.set_option('display.max_columns',500)\n",
    "pd.set_option('display.max_rows',700)"
   ]
  },
  {
   "cell_type": "code",
   "execution_count": 372,
   "metadata": {},
   "outputs": [],
   "source": [
    "path = r'/vol/sci/astro/bigdata/tussbaum/halofinder/catalog/'\n",
    "path_1 = r'/vol/sci/astro/home/adambeilialpha/'\n",
    "sim_cat        = pd.read_pickle(path + 'sim_table.pkl')\n",
    "sim_cat.set_index(['sid'], inplace=True)"
   ]
  },
  {
   "cell_type": "code",
   "execution_count": 373,
   "metadata": {},
   "outputs": [],
   "source": [
    "## Create a random path for the temporary folder in local hard disk /tmp/ folder. \n",
    "## In this example the name of the folder is a random string of 12 upper case letters.\n",
    "_TMP_PATH_ = '/tmp/' + ''.join(choice(ascii_uppercase) for i in range(12))\n",
    "\n",
    "path_1 = r'/vol/sci/astro/home/adambeilialpha/'\n",
    "\n",
    "## Create temp folder on local disk if dosn't exist.\n",
    "if not os.path.exists(_TMP_PATH_):\n",
    "    os.makedirs(_TMP_PATH_)  \n",
    "     \n",
    "def copy_to_tmp(path,galaxynumber, index):\n",
    "    for file in glob.glob(path+'VELA_v2/VELA_v2_'+galaxynumber+'*/*'+index[1:]+'*'):\n",
    "        shutil.copy(file, _TMP_PATH_)  \n",
    "               \n",
    "def purge(pattern):\n",
    "    for f in glob.glob(_TMP_PATH_ + \"/*\" + pattern + \"*\"):\n",
    "        os.remove(f)       "
   ]
  },
  {
   "cell_type": "code",
   "execution_count": 75,
   "metadata": {},
   "outputs": [],
   "source": [
    "shutil.rmtree(_TMP_PATH_)"
   ]
  },
  {
   "cell_type": "code",
   "execution_count": null,
   "metadata": {},
   "outputs": [],
   "source": []
  },
  {
   "cell_type": "code",
   "execution_count": 57,
   "metadata": {
    "scrolled": false
   },
   "outputs": [],
   "source": [
    "sgal_full_thick_table  = pd.read_pickle(path + r'/sgal_full_thick_table.pkl')\n",
    "#sgal_shape_df = pd.read_pickle(path_1 + r'/sgal_shape_df_2800.pkl')\n",
    "#sgal_shape_df.head()"
   ]
  },
  {
   "cell_type": "code",
   "execution_count": 58,
   "metadata": {},
   "outputs": [],
   "source": [
    "sgal_full_thick_shapes_2 = sgal_full_thick_table.copy()"
   ]
  },
  {
   "cell_type": "code",
   "execution_count": 60,
   "metadata": {},
   "outputs": [],
   "source": [
    "sgal_full_thick_shapes_2['stars_p(1kpc)'],sgal_full_thick_shapes_2['stars_q(1kpc)'], sgal_full_thick_shapes_2['dm_p(1kpc)'],sgal_full_thick_shapes_2['dm_q(1kpc)'], sgal_full_thick_shapes_2['gas_p(1kpc)'],sgal_full_thick_shapes_2['gas_q(1kpc)'] = [np.nan]*6\n",
    "sgal_full_thick_shapes_2['stars_p(0.5kpc)'],sgal_full_thick_shapes_2['stars_q(0.5kpc)'], sgal_full_thick_shapes_2['dm_p(0.5kpc)'],sgal_full_thick_shapes_2['dm_q(0.5kpc)'], sgal_full_thick_shapes_2['gas_p(0.5kpc)'],sgal_full_thick_shapes_2['gas_q(0.5kpc)'] = [np.nan]*6\n",
    "sgal_full_thick_shapes_2['stars_p(Rsat)'],sgal_full_thick_shapes_2['stars_q(Rsat)'], sgal_full_thick_shapes_2['dm_p(Rsat)'],sgal_full_thick_shapes_2['dm_q(Rsat)'], sgal_full_thick_shapes_2['gas_p(Rsat)'],sgal_full_thick_shapes_2['gas_q(Rsat)'] = [np.nan]*6\n",
    "sgal_full_thick_shapes_2['youngstars_p(1kpc)'],sgal_full_thick_shapes_2['youngstars_q(1kpc)'], sgal_full_thick_shapes_2['coldgas_p(1kpc)'],sgal_full_thick_shapes_2['coldgas_q(1kpc)'], sgal_full_thick_shapes_2['tot_p(1kpc)'],sgal_full_thick_shapes_2['tot_q(1kpc)'] = [np.nan]*6\n",
    "sgal_full_thick_shapes_2['youngstars_p(0.5kpc)'],sgal_full_thick_shapes_2['youngstars_q(0.5kpc)'], sgal_full_thick_shapes_2['coldgas_p(0.5kpc)'],sgal_full_thick_shapes_2['coldgas_q(0.5kpc)'], sgal_full_thick_shapes_2['tot_p(0.5kpc)'],sgal_full_thick_shapes_2['tot_q(0.5kpc)'] = [np.nan]*6\n",
    "sgal_full_thick_shapes_2['youngstars_p(Rsat)'],sgal_full_thick_shapes_2['youngstars_q(Rsat)'], sgal_full_thick_shapes_2['coldgas_p(Rsat)'],sgal_full_thick_shapes_2['coldgas_q(Rsat)'], sgal_full_thick_shapes_2['tot_p(Rsat)'],sgal_full_thick_shapes_2['tot_q(Rsat)'] = [np.nan]*6"
   ]
  },
  {
   "cell_type": "code",
   "execution_count": null,
   "metadata": {},
   "outputs": [],
   "source": [
    "sgal_full_thick_shapes_2['stars_a_vec(1kpc)'],sgal_full_thick_shapes_2['stars_b_vec(1kpc)'],sgal_full_thick_shapes_2['stars_c_vec(1kpc)']=[[np.zeros(3)]*len(sgal_full_thick_shapes_2)]*3\n",
    "sgal_full_thick_shapes_2['dm_a_vec(1kpc)'],sgal_full_thick_shapes_2['dm_b_vec(1kpc)'],sgal_full_thick_shapes_2['dm_c_vec(1kpc)']=[[np.zeros(3)]*len(sgal_full_thick_shapes_2)]*3\n",
    "sgal_full_thick_shapes_2['gas_a_vec(1kpc)'],sgal_full_thick_shapes_2['gas_b_vec(1kpc)'],sgal_full_thick_shapes_2['gas_c_vec(1kpc)']=[[np.zeros(3)]*len(sgal_full_thick_shapes_2)]*3\n",
    "sgal_full_thick_shapes_2['youngstars_a_vec(1kpc)'],sgal_full_thick_shapes_2['youngstars_b_vec(1kpc)'],sgal_full_thick_shapes_2['youngstars_c_vec(1kpc)']=[[np.zeros(3)]*len(sgal_full_thick_shapes_2)]*3\n",
    "sgal_full_thick_shapes_2['coldgas_a_vec(1kpc)'],sgal_full_thick_shapes_2['coldgas_b_vec(1kpc)'],sgal_full_thick_shapes_2['coldgas_c_vec(1kpc)']=[[np.zeros(3)]*len(sgal_full_thick_shapes_2)]*3\n",
    "sgal_full_thick_shapes_2['tot_a_vec(1kpc)'],sgal_full_thick_shapes_2['tot_b_vec(1kpc)'],sgal_full_thick_shapes_2['tot_c_vec(1kpc)']=[[np.zeros(3)]*len(sgal_full_thick_shapes_2)]*3\n",
    "\n",
    "sgal_full_thick_shapes_2['stars_a_vec(0.5kpc)'],sgal_full_thick_shapes_2['stars_b_vec(0.5kpc)'],sgal_full_thick_shapes_2['stars_c_vec(0.5kpc)']=[[np.zeros(3)]*len(sgal_full_thick_shapes_2)]*3\n",
    "sgal_full_thick_shapes_2['dm_a_vec(0.5kpc)'],sgal_full_thick_shapes_2['dm_b_vec(0.5kpc)'],sgal_full_thick_shapes_2['dm_c_vec(0.5kpc)']=[[np.zeros(3)]*len(sgal_full_thick_shapes_2)]*3\n",
    "sgal_full_thick_shapes_2['gas_a_vec(0.5kpc)'],sgal_full_thick_shapes_2['gas_b_vec(0.5kpc)'],sgal_full_thick_shapes_2['gas_c_vec(0.5kpc)']=[[np.zeros(3)]*len(sgal_full_thick_shapes_2)]*3\n",
    "sgal_full_thick_shapes_2['youngstars_a_vec(0.5kpc)'],sgal_full_thick_shapes_2['youngstars_b_vec(0.5kpc)'],sgal_full_thick_shapes_2['youngstars_c_vec(0.5kpc)']=[[np.zeros(3)]*len(sgal_full_thick_shapes_2)]*3\n",
    "sgal_full_thick_shapes_2['coldgas_a_vec(0.5kpc)'],sgal_full_thick_shapes_2['coldgas_b_vec(0.5kpc)'],sgal_full_thick_shapes_2['coldgas_c_vec(0.5kpc)']=[[np.zeros(3)]*len(sgal_full_thick_shapes_2)]*3\n",
    "sgal_full_thick_shapes_2['tot_a_vec(0.5kpc)'],sgal_full_thick_shapes_2['tot_b_vec(0.5kpc)'],sgal_full_thick_shapes_2['tot_c_vec(0.5kpc)']=[[np.zeros(3)]*len(sgal_full_thick_shapes_2)]*3\n",
    "\n",
    "sgal_full_thick_shapes_2['stars_a_vec(Rsat)'],sgal_full_thick_shapes_2['stars_b_vec(Rsat)'],sgal_full_thick_shapes_2['stars_c_vec(Rsat)']=[[np.zeros(3)]*len(sgal_full_thick_shapes_2)]*3\n",
    "sgal_full_thick_shapes_2['dm_a_vec(Rsat)'],sgal_full_thick_shapes_2['dm_b_vec(Rsat)'],sgal_full_thick_shapes_2['dm_c_vec(Rsat)']=[[np.zeros(3)]*len(sgal_full_thick_shapes_2)]*3\n",
    "sgal_full_thick_shapes_2['gas_a_vec(Rsat)'],sgal_full_thick_shapes_2['gas_b_vec(Rsat)'],sgal_full_thick_shapes_2['gas_c_vec(Rsat)']=[[np.zeros(3)]*len(sgal_full_thick_shapes_2)]*3\n",
    "sgal_full_thick_shapes_2['youngstars_a_vec(Rsat)'],sgal_full_thick_shapes_2['youngstars_b_vec(Rsat)'],sgal_full_thick_shapes_2['youngstars_c_vec(Rsat)']=[[np.zeros(3)]*len(sgal_full_thick_shapes_2)]*3\n",
    "sgal_full_thick_shapes_2['coldgas_a_vec(Rsat)'],sgal_full_thick_shapes_2['coldgas_b_vec(Rsat)'],sgal_full_thick_shapes_2['coldgas_c_vec(Rsat)']=[[np.zeros(3)]*len(sgal_full_thick_shapes_2)]*3\n",
    "sgal_full_thick_shapes_2['tot_a_vec(Rsat)'],sgal_full_thick_shapes_2['tot_b_vec(Rsat)'],sgal_full_thick_shapes_2['tot_c_vec(Rsat)']=[[np.zeros(3)]*len(sgal_full_thick_shapes_2)]*3\n",
    "\n",
    "sgal_full_thick_shapes_2['stars(1kpc)_px_start_end'] = [[np.nan,np.nan]]*len(sgal_full_thick_shapes_2)\n",
    "sgal_full_thick_shapes_2['star_px_err_ratio(1kpc)'],sgal_full_thick_shapes_2['stars(1kpc)_iters']=[np.nan]*2\n",
    "sgal_full_thick_shapes_2['stars(1kpc)_errs'] =  [tuple([])]*len(sgal_full_thick_shapes_2)\n",
    "sgal_full_thick_shapes_2['gas(1kpc)_px_start_end'] =  [[np.nan,np.nan]]*len(sgal_full_thick_shapes_2)\n",
    "sgal_full_thick_shapes_2['gas_px_err_ratio(1kpc)'],sgal_full_thick_shapes_2['gas(1kpc)_iters']=[np.nan]*2\n",
    "sgal_full_thick_shapes_2['gas(1kpc)_errs'] =  [tuple([])]*len(sgal_full_thick_shapes_2)\n",
    "sgal_full_thick_shapes_2['dm(1kpc)_px_start_end'] =  [[np.nan,np.nan]]*len(sgal_full_thick_shapes_2)\n",
    "sgal_full_thick_shapes_2['dm_px_err_ratio(1kpc)'],sgal_full_thick_shapes_2['dm(1kpc)_iters']=[np.nan]*2\n",
    "sgal_full_thick_shapes_2['dm(1kpc)_errs'] =  [tuple([])]*len(sgal_full_thick_shapes_2)\n",
    "sgal_full_thick_shapes_2['youngstars(1kpc)_px_start_end']=  [[np.nan,np.nan]]*len(sgal_full_thick_shapes_2)\n",
    "sgal_full_thick_shapes_2['youngstar_px_err_ratio(1kpc)'],sgal_full_thick_shapes_2['youngstars(1kpc)_iters']=[np.nan]*2\n",
    "sgal_full_thick_shapes_2['youngstars(1kpc)_errs'] = [tuple([])]*len(sgal_full_thick_shapes_2)\n",
    "sgal_full_thick_shapes_2['coldgas(1kpc)_px_start_end']= [[np.nan,np.nan]]*len(sgal_full_thick_shapes_2)\n",
    "sgal_full_thick_shapes_2['coldgas_px_err_ratio(1kpc)'],sgal_full_thick_shapes_2['coldgas(1kpc)_iters']=[np.nan]*2\n",
    "sgal_full_thick_shapes_2['coldgas(1kpc)_errs'] =  [tuple([])]*len(sgal_full_thick_shapes_2)\n",
    "sgal_full_thick_shapes_2['tot(1kpc)_px_start_end'] = [[np.nan,np.nan]]*len(sgal_full_thick_shapes_2)\n",
    "sgal_full_thick_shapes_2['tot_px_err_ratio(1kpc)'],sgal_full_thick_shapes_2['tot(1kpc)_iters']=[np.nan]*2\n",
    "sgal_full_thick_shapes_2['tot(1kpc)_errs'] =  [tuple([])]*len(sgal_full_thick_shapes_2)\n",
    "\n",
    "sgal_full_thick_shapes_2['stars(0.5kpc)_px_start_end'] = [[np.nan,np.nan]]*len(sgal_full_thick_shapes_2)\n",
    "sgal_full_thick_shapes_2['star_px_err_ratio(0.5kpc)'],sgal_full_thick_shapes_2['stars(0.5kpc)_iters']=[np.nan]*2\n",
    "sgal_full_thick_shapes_2['stars(0.5kpc)_errs'] = [tuple([])]*len(sgal_full_thick_shapes_2)\n",
    "sgal_full_thick_shapes_2['gas(0.5kpc)_px_start_end'] =  [[np.nan,np.nan]]*len(sgal_full_thick_shapes_2)\n",
    "sgal_full_thick_shapes_2['gas_px_err_ratio(0.5kpc)'],sgal_full_thick_shapes_2['gas(0.5kpc)_iters']=[np.nan]*2\n",
    "sgal_full_thick_shapes_2['gas(0.5kpc)_errs'] = [tuple([])]*len(sgal_full_thick_shapes_2)\n",
    "sgal_full_thick_shapes_2['dm(0.5kpc)_px_start_end'] =  [[np.nan,np.nan]]*len(sgal_full_thick_shapes_2)\n",
    "sgal_full_thick_shapes_2['dm_px_err_ratio(0.5kpc)'],sgal_full_thick_shapes_2['dm(0.5kpc)_iters']=[np.nan]*2\n",
    "sgal_full_thick_shapes_2['dm(0.5kpc)_errs'] = [tuple([])]*len(sgal_full_thick_shapes_2)\n",
    "sgal_full_thick_shapes_2['youngstars(0.5kpc)_px_start_end']=  [[np.nan,np.nan]]*len(sgal_full_thick_shapes_2)\n",
    "sgal_full_thick_shapes_2['youngstar_px_err_ratio(0.5kpc)'],sgal_full_thick_shapes_2['youngstars(0.5kpc)_iters']=[np.nan]*2\n",
    "sgal_full_thick_shapes_2['youngstars(0.5kpc)_errs'] = [tuple([])]*len(sgal_full_thick_shapes_2)\n",
    "sgal_full_thick_shapes_2['coldgas(0.5kpc)_px_start_end']= [[np.nan,np.nan]]*len(sgal_full_thick_shapes_2)\n",
    "sgal_full_thick_shapes_2['coldgas_px_err_ratio(0.5kpc)'],sgal_full_thick_shapes_2['coldgas(0.5kpc)_iters']=[np.nan]*2\n",
    "sgal_full_thick_shapes_2['coldgas(0.5kpc)_errs'] = [tuple([])]*len(sgal_full_thick_shapes_2)\n",
    "sgal_full_thick_shapes_2['tot(0.5kpc)_px_start_end'] = [[np.nan,np.nan]]*len(sgal_full_thick_shapes_2)\n",
    "sgal_full_thick_shapes_2['tot_px_err_ratio(0.5kpc)'],sgal_full_thick_shapes_2['tot(0.5kpc)_iters']=[np.nan]*2\n",
    "sgal_full_thick_shapes_2['tot(0.5kpc)_errs'] = [tuple([])]*len(sgal_full_thick_shapes_2)\n",
    "\n",
    "sgal_full_thick_shapes_2['stars(Rsat)_px_start_end'] = [[np.nan,np.nan]]*len(sgal_full_thick_shapes_2)\n",
    "sgal_full_thick_shapes_2['star_px_err_ratio(Rsat)'],sgal_full_thick_shapes_2['stars(Rsat)_iters']=[np.nan]*2\n",
    "sgal_full_thick_shapes_2['stars(Rsat)_errs'] = [tuple([])]*len(sgal_full_thick_shapes_2)\n",
    "sgal_full_thick_shapes_2['gas(Rsat)_px_start_end'] =  [[np.nan,np.nan]]*len(sgal_full_thick_shapes_2)\n",
    "sgal_full_thick_shapes_2['gas_px_err_ratio(Rsat)'],sgal_full_thick_shapes_2['gas(Rsat)_iters']=[np.nan]*2\n",
    "sgal_full_thick_shapes_2['gas(Rsat)_errs'] = [tuple([])]*len(sgal_full_thick_shapes_2)\n",
    "sgal_full_thick_shapes_2['dm(Rsat)_px_start_end'] =  [[np.nan,np.nan]]*len(sgal_full_thick_shapes_2)\n",
    "sgal_full_thick_shapes_2['dm_px_err_ratio(Rsat)'],sgal_full_thick_shapes_2['dm(Rsat)_iters']=[np.nan]*2\n",
    "sgal_full_thick_shapes_2['dm(Rsat)_errs'] = [tuple([])]*len(sgal_full_thick_shapes_2)\n",
    "sgal_full_thick_shapes_2['youngstars(Rsat)_px_start_end']=  [[np.nan,np.nan]]*len(sgal_full_thick_shapes_2)\n",
    "sgal_full_thick_shapes_2['youngstar_px_err_ratio(Rsat)'],sgal_full_thick_shapes_2['youngstars(Rsat)_iters']=[np.nan]*2\n",
    "sgal_full_thick_shapes_2['youngstars(Rsat)_errs'] = [tuple([])]*len(sgal_full_thick_shapes_2)\n",
    "sgal_full_thick_shapes_2['coldgas(Rsat)_px_start_end']= [[np.nan,np.nan]]*len(sgal_full_thick_shapes_2)\n",
    "sgal_full_thick_shapes_2['coldgas_px_err_ratio(Rsat)'],sgal_full_thick_shapes_2['coldgas(Rsat)_iters']=[np.nan]*2\n",
    "sgal_full_thick_shapes_2['coldgas(Rsat)_errs'] = [tuple([])]*len(sgal_full_thick_shapes_2)\n",
    "sgal_full_thick_shapes_2['tot(Rsat)_px_start_end'] = [[np.nan,np.nan]]*len(sgal_full_thick_shapes_2)\n",
    "sgal_full_thick_shapes_2['tot_px_err_ratio(Rsat)'],sgal_full_thick_shapes_2['tot(Rsat)_iters']=[np.nan]*2\n",
    "sgal_full_thick_shapes_2['tot(Rsat)_errs'] = [tuple([])]*len(sgal_full_thick_shapes_2)\n",
    "\n",
    "\n",
    "sgal_full_thick_shapes_2['stars(1kpc)_err_msg']= ''\n",
    "sgal_full_thick_shapes_2['gas(1kpc)_err_msg'] = ''\n",
    "sgal_full_thick_shapes_2['dm(1kpc)_err_msg'] = ''\n",
    "sgal_full_thick_shapes_2['youngstars(1kpc)_err_msg'] = ''\n",
    "sgal_full_thick_shapes_2['coldgas(1kpc)_err_msg'] = ''\n",
    "sgal_full_thick_shapes_2['tot(1kpc)_err_msg'] = ''\n",
    "sgal_full_thick_shapes_2['stars(0.5kpc)_err_msg'] = ''\n",
    "sgal_full_thick_shapes_2['gas(0.5kpc)_err_msg'] = ''\n",
    "sgal_full_thick_shapes_2['dm(0.5kpc)_err_msg'] = ''\n",
    "sgal_full_thick_shapes_2['youngstars(0.5kpc)_err_msg'] = ''\n",
    "sgal_full_thick_shapes_2['coldgas(0.5kpc)_err_msg'] = ''\n",
    "sgal_full_thick_shapes_2['tot(0.5kpc)_err_msg'] = ''\n",
    "sgal_full_thick_shapes_2['stars(Rsat)_err_msg'] = ''\n",
    "sgal_full_thick_shapes_2['gas(Rsat)_err_msg'] = ''\n",
    "sgal_full_thick_shapes_2['dm(Rsat)_err_msg'] = ''\n",
    "sgal_full_thick_shapes_2['youngstars(Rsat)_err_msg'] = ''\n",
    "sgal_full_thick_shapes_2['coldgas(Rsat)_err_msg'] = ''\n",
    "sgal_full_thick_shapes_2['tot(Rsat)_err_msg'] = ''\n",
    "\n",
    "\n",
    "sgal_full_thick_shapes_2"
   ]
  },
  {
   "cell_type": "code",
   "execution_count": 61,
   "metadata": {},
   "outputs": [],
   "source": [
    "sgal_full_thick_shapes_2['calculated'] = False"
   ]
  },
  {
   "cell_type": "code",
   "execution_count": 62,
   "metadata": {},
   "outputs": [],
   "source": [
    "sgal_full_thick_shapes_2.to_pickle(path_1 + r'/sgal_full_thick_shapes_2.pkl')"
   ]
  },
  {
   "cell_type": "code",
   "execution_count": null,
   "metadata": {},
   "outputs": [],
   "source": []
  },
  {
   "cell_type": "markdown",
   "metadata": {},
   "source": [
    "# run following cells"
   ]
  },
  {
   "cell_type": "code",
   "execution_count": 374,
   "metadata": {},
   "outputs": [],
   "source": [
    "sgal_full_thick_shapes = pd.read_pickle(path_1 +r'/sgal_full_thick_shape_2500.pkl')"
   ]
  },
  {
   "cell_type": "code",
   "execution_count": 386,
   "metadata": {},
   "outputs": [
    {
     "data": {
      "text/plain": [
       "<module 'ShapeTensor' from 'ShapeTensor.py'>"
      ]
     },
     "execution_count": 386,
     "metadata": {},
     "output_type": "execute_result"
    }
   ],
   "source": [
    "reload(st)"
   ]
  },
  {
   "cell_type": "code",
   "execution_count": 182,
   "metadata": {},
   "outputs": [
    {
     "name": "stderr",
     "output_type": "stream",
     "text": [
      "yt : [INFO     ] 2020-08-01 23:20:30,342 discovered particle_data:/vol/sci/astro/cosmo/nas3/ceverino/VELA_v2/VELA_v2_07/PMcrs0a0.170.DAT\n",
      "yt : [INFO     ] 2020-08-01 23:20:30,345 discovered particle_header:/vol/sci/astro/cosmo/nas3/ceverino/VELA_v2/VELA_v2_07/PMcrda0.170.DAT\n",
      "yt : [INFO     ] 2020-08-01 23:20:30,346 discovered particle_stars:/vol/sci/astro/cosmo/nas3/ceverino/VELA_v2/VELA_v2_07/stars_a0.170.dat\n",
      "yt : [INFO     ] 2020-08-01 23:20:30,635 Using root level of 14\n",
      "yt : [INFO     ] 2020-08-01 23:20:30,655 Discovered 7 species of particles\n",
      "yt : [INFO     ] 2020-08-01 23:20:30,657 Particle populations:  34930688   4943872    855040    139392     21776   2088309    364607 \n",
      "yt : [INFO     ] 2020-08-01 23:20:30,806 Max level is 12\n",
      "yt : [INFO     ] 2020-08-01 23:20:30,859 Parameters: current_time              = 1.25483306484 Gyr\n",
      "yt : [INFO     ] 2020-08-01 23:20:30,862 Parameters: domain_dimensions         = [128 128 128]\n",
      "yt : [INFO     ] 2020-08-01 23:20:30,864 Parameters: domain_left_edge          = [ 0.  0.  0.]\n",
      "yt : [INFO     ] 2020-08-01 23:20:30,866 Parameters: domain_right_edge         = [ 1.  1.  1.]\n",
      "yt : [INFO     ] 2020-08-01 23:20:30,869 Parameters: cosmological_simulation   = True\n",
      "yt : [INFO     ] 2020-08-01 23:20:30,871 Parameters: current_redshift          = 4.87824787233\n",
      "yt : [INFO     ] 2020-08-01 23:20:30,874 Parameters: omega_lambda              = 0.730000019073\n",
      "yt : [INFO     ] 2020-08-01 23:20:30,876 Parameters: omega_matter              = 0.270000010729\n",
      "yt : [INFO     ] 2020-08-01 23:20:30,879 Parameters: hubble_constant           = 0.699999988079\n"
     ]
    }
   ],
   "source": [
    "sgal_cat_s = sgal_full_thick_shapes.iloc[2501]\n",
    "ds1 = yt.load(sim_cat.loc[sgal_cat_s['sim_id']]['sim_path'].replace('from_nas2','').replace('nas2','nas3'))\n"
   ]
  },
  {
   "cell_type": "code",
   "execution_count": 183,
   "metadata": {},
   "outputs": [
    {
     "data": {
      "text/plain": [
       "'VELA_v2.Thick.01.a0.150007307529'"
      ]
     },
     "execution_count": 183,
     "metadata": {},
     "output_type": "execute_result"
    }
   ],
   "source": [
    "sgal_cat_s = sgal_full_thick_shapes_2.iloc[1]\n",
    "sid=sgal_cat_s['sim_id']\n",
    "sid"
   ]
  },
  {
   "cell_type": "markdown",
   "metadata": {},
   "source": [
    "# SHAPETENSOR CALCULATOR"
   ]
  },
  {
   "cell_type": "code",
   "execution_count": null,
   "metadata": {},
   "outputs": [],
   "source": [
    "sgal_full_thick_shapes.loc[num,['stars_a_vec(Rsat)','stars_b_vec(Rsat)','stars_c_vec(Rsat)','stars(Rsat)_errs','stars(Rsat)_px_start_end','stars(Rsat)_err_msg']]=star_vars\n",
    "        sgal_full_thick_shapes.loc[num,['stars_p(Rsat)','stars_q(Rsat)','star_px_err_ratio(Rsat)','stars(Rsat)_iters']]=temp_stars\n",
    "        sgal_full_thick_shapes.loc[num,['gas_a_vec(Rsat)','gas_b_vec(Rsat)','gas_c_vec(Rsat)','gas(Rsat)_errs','gas(Rsat)_px_start_end','gas(Rsat)_err_msg']]=gas_vars\n",
    "        sgal_full_thick_shapes.loc[num,['gas_p(Rsat)','gas_q(Rsat)','star_px_err_ratio(Rsat)','gas(Rsat)_iters']]=temp_gas\n",
    "        sgal_full_thick_shapes.loc[num,['dm_a_vec(Rsat)','dm_b_vec(Rsat)','dm_c_vec(Rsat)','dm(Rsat)_errs','dm(Rsat)_px_start_end','dm(Rsat)_err_msg']]=dm_vars\n",
    "        sgal_full_thick_shapes.loc[num,['dm_p(Rsat)','dm_q(Rsat)','star_px_err_ratio(Rsat)','dm(Rsat)_iters']]=temp_dm\n",
    "        sgal_full_thick_shapes.loc[num,['coldgas_a_vec(Rsat)','coldgas_b_vec(Rsat)','coldgas_c_vec(Rsat)','coldgas(Rsat)_errs','coldgas(Rsat)_px_start_end','coldgas(Rsat)_err_msg']]=coldgas_vars\n",
    "        sgal_full_thick_shapes.loc[num,['coldgas_p(Rsat)','coldgas_q(Rsat)','star_px_err_ratio(Rsat)','coldgas(Rsat)_iters']]=temp_coldgas\n",
    "        sgal_full_thick_shapes.loc[num,['tot_a_vec(Rsat)','tot_b_vec(Rsat)','tot_c_vec(Rsat)','tot(Rsat)_errs','tot(Rsat)_px_start_end','tot(Rsat)_err_msg']]=tot_vars\n",
    "        sgal_full_thick_shapes.loc[num,['tot_p(Rsat)','tot_q(Rsat)','star_px_err_ratio(Rsat)','tot(Rsat)_iters']]=temp_tot\n",
    "     "
   ]
  },
  {
   "cell_type": "code",
   "execution_count": null,
   "metadata": {},
   "outputs": [],
   "source": [
    "reload(st)\n",
    "def radius_finding_calc():\n",
    "    i=2500\n",
    "\n",
    "    for index, row in sgal_full_thick_shapes.iterrows():\n",
    "        #Checking if already run on this row\n",
    "        if sgal_full_thick_shapes.iloc[i]['calculated']==True:\n",
    "            i+=1\n",
    "            continue\n",
    "        \n",
    "        #Importing data\n",
    "        print 'Copying snapshot to Node', '\\n'\n",
    "        sgal_cat_s = sgal_full_thick_shapes.iloc[i]\n",
    "        sid=sgal_cat_s['sim_id']\n",
    "        path=sim_cat.loc[sid]['sim_dir'].replace('from_nas2','').replace('nas2','nas3')\n",
    "        gax=sim_cat.loc[sid]['galaxynumber']\n",
    "        idx=sim_cat.loc[sid]['index']\n",
    "        copy_to_tmp(path,gax,idx)\n",
    "        \n",
    "        st.ds = yt.load(os.path.join(_TMP_PATH_,'10MpcBox_csf512_'+idx+'.d')) \n",
    "        \n",
    "        #function that makes the sphere\n",
    "        #st.get_sp(sgal_cat_s)\n",
    "        \n",
    "        #running shapetensor(r) function on the current galaxy\n",
    "        print i, '    ', 'gal_num:',sgal_cat_s['galaxynumber'],' snapshot:',  sgal_cat_s['aexp'].round(2), '\\n'\n",
    "        \n",
    "        #sgal_shape_df.loc[index,['r_der','r_1min','r_dm','r_dm_half'] = st.return_rad(sgal_cat_s)\n",
    "        mat_arr,mass_arr=st.imp_data(sgal_cat_s)\n",
    "\n",
    "        print \"1kpc\",'\\n'\n",
    "        star_vars,dm_vars,gas_vars,coldgas_vars,tot_vars,temp_stars,temp_dm,temp_gas,temp_coldgas,temp_tot = st.shapetensor(mat_arr,mass_arr,1)\n",
    "        sgal_full_thick_shapes.loc[num,['stars_a_vec(1kpc)','stars_b_vec(1kpc)','stars_c_vec(1kpc)','stars(1kpc)_errs','stars(1kpc)_px_start_end','stars(1kpc)_err_msg']]=star_vars\n",
    "        sgal_full_thick_shapes.loc[num,['stars_p(1kpc)','stars_q(1kpc)','star_px_err_ratio(1kpc)','stars(1kpc)_iters']]=temp_stars\n",
    "        sgal_full_thick_shapes.loc[num,['gas_a_vec(1kpc)','gas_b_vec(1kpc)','gas_c_vec(1kpc)','gas(1kpc)_errs','gas(1kpc)_px_start_end','gas(1kpc)_err_msg']]=gas_vars\n",
    "        sgal_full_thick_shapes.loc[num,['gas_p(1kpc)','gas_q(1kpc)','star_px_err_ratio(1kpc)','gas(1kpc)_iters']]=temp_gas\n",
    "        sgal_full_thick_shapes.loc[num,['dm_a_vec(1kpc)','dm_b_vec(1kpc)','dm_c_vec(1kpc)','dm(1kpc)_errs','dm(1kpc)_px_start_end','dm(1kpc)_err_msg']]=dm_vars\n",
    "        sgal_full_thick_shapes.loc[num,['dm_p(1kpc)','dm_q(1kpc)','star_px_err_ratio(1kpc)','dm(1kpc)_iters']]=temp_dm\n",
    "        sgal_full_thick_shapes.loc[num,['coldgas_a_vec(1kpc)','coldgas_b_vec(1kpc)','coldgas_c_vec(1kpc)','coldgas(1kpc)_errs','coldgas(1kpc)_px_start_end','coldgas(1kpc)_err_msg']]=coldgas_vars\n",
    "        sgal_full_thick_shapes.loc[num,['coldgas_p(1kpc)','coldgas_q(1kpc)','star_px_err_ratio(1kpc)','coldgas(1kpc)_iters']]=temp_coldgas\n",
    "        sgal_full_thick_shapes.loc[num,['tot_a_vec(1kpc)','tot_b_vec(1kpc)','tot_c_vec(1kpc)','tot(1kpc)_errs','tot(1kpc)_px_start_end','tot(1kpc)_err_msg']]=tot_vars\n",
    "        sgal_full_thick_shapes.loc[num,['tot_p(1kpc)','tot_q(1kpc)','star_px_err_ratio(1kpc)','tot(1kpc)_iters']]=temp_tot\n",
    "     \n",
    "        print '\\n'\n",
    "        print \"0.5kpc\", '\\n'\n",
    "        star_vars,dm_vars,gas_vars,coldgas_vars,tot_vars,temp_stars,temp_dm,temp_gas,temp_coldgas,temp_tot = st.shapetensor(mat_arr,mass_arr,0.5)\n",
    "        sgal_full_thick_shapes.loc[num,['stars_a_vec(0.5kpc)','stars_b_vec(0.5kpc)','stars_c_vec(0.5kpc)','stars(0.5kpc)_errs','stars(0.5kpc)_px_start_end','stars(0.5kpc)_err_msg']]=star_vars\n",
    "        sgal_full_thick_shapes.loc[num,['stars_p(0.5kpc)','stars_q(0.5kpc)','star_px_err_ratio(0.5kpc)','stars(0.5kpc)_iters']]=temp_stars\n",
    "        sgal_full_thick_shapes.loc[num,['gas_a_vec(0.5kpc)','gas_b_vec(0.5kpc)','gas_c_vec(0.5kpc)','gas(0.5kpc)_errs','gas(0.5kpc)_px_start_end','gas(0.5kpc)_err_msg']]=gas_vars\n",
    "        sgal_full_thick_shapes.loc[num,['gas_p(0.5kpc)','gas_q(0.5kpc)','star_px_err_ratio(0.5kpc)','gas(0.5kpc)_iters']]=temp_gas\n",
    "        sgal_full_thick_shapes.loc[num,['dm_a_vec(0.5kpc)','dm_b_vec(0.5kpc)','dm_c_vec(0.5kpc)','dm(0.5kpc)_errs','dm(0.5kpc)_px_start_end','dm(0.5kpc)_err_msg']]=dm_vars\n",
    "        sgal_full_thick_shapes.loc[num,['dm_p(0.5kpc)','dm_q(0.5kpc)','star_px_err_ratio(0.5kpc)','dm(0.5kpc)_iters']]=temp_dm\n",
    "        sgal_full_thick_shapes.loc[num,['coldgas_a_vec(0.5kpc)','coldgas_b_vec(0.5kpc)','coldgas_c_vec(0.5kpc)','coldgas(0.5kpc)_errs','coldgas(0.5kpc)_px_start_end','coldgas(0.5kpc)_err_msg']]=coldgas_vars\n",
    "        sgal_full_thick_shapes.loc[num,['coldgas_p(0.5kpc)','coldgas_q(0.5kpc)','star_px_err_ratio(0.5kpc)','coldgas(0.5kpc)_iters']]=temp_coldgas\n",
    "        sgal_full_thick_shapes.loc[num,['tot_a_vec(0.5kpc)','tot_b_vec(0.5kpc)','tot_c_vec(0.5kpc)','tot(0.5kpc)_errs','tot(0.5kpc)_px_start_end','tot(0.5kpc)_err_msg']]=tot_vars\n",
    "        sgal_full_thick_shapes.loc[num,['tot_p(0.5kpc)','tot_q(0.5kpc)','star_px_err_ratio(0.5kpc)','tot(0.5kpc)_iters']]=temp_tot\n",
    "     \n",
    "        print '\\n'\n",
    "        print \"Rsat\", '\\n'\n",
    "        star_vars,dm_vars,gas_vars,coldgas_vars,tot_vars,temp_stars,temp_dm,temp_gas,temp_coldgas,temp_tot = st.shapetensor(mat_arr,mass_arr,sgal_cat_s['Rsat[kpc]'])    \n",
    "        sgal_full_thick_shapes.loc[num,['stars_a_vec(Rsat)','stars_b_vec(Rsat)','stars_c_vec(Rsat)','stars(Rsat)_errs','stars(Rsat)_px_start_end','stars(Rsat)_err_msg']]=star_vars\n",
    "        sgal_full_thick_shapes.loc[num,['stars_p(Rsat)','stars_q(Rsat)','star_px_err_ratio(Rsat)','stars(Rsat)_iters']]=temp_stars\n",
    "        sgal_full_thick_shapes.loc[num,['gas_a_vec(Rsat)','gas_b_vec(Rsat)','gas_c_vec(Rsat)','gas(Rsat)_errs','gas(Rsat)_px_start_end','gas(Rsat)_err_msg']]=gas_vars\n",
    "        sgal_full_thick_shapes.loc[num,['gas_p(Rsat)','gas_q(Rsat)','star_px_err_ratio(Rsat)','gas(Rsat)_iters']]=temp_gas\n",
    "        sgal_full_thick_shapes.loc[num,['dm_a_vec(Rsat)','dm_b_vec(Rsat)','dm_c_vec(Rsat)','dm(Rsat)_errs','dm(Rsat)_px_start_end','dm(Rsat)_err_msg']]=dm_vars\n",
    "        sgal_full_thick_shapes.loc[num,['dm_p(Rsat)','dm_q(Rsat)','star_px_err_ratio(Rsat)','dm(Rsat)_iters']]=temp_dm\n",
    "        sgal_full_thick_shapes.loc[num,['coldgas_a_vec(Rsat)','coldgas_b_vec(Rsat)','coldgas_c_vec(Rsat)','coldgas(Rsat)_errs','coldgas(Rsat)_px_start_end','coldgas(Rsat)_err_msg']]=coldgas_vars\n",
    "        sgal_full_thick_shapes.loc[num,['coldgas_p(Rsat)','coldgas_q(Rsat)','star_px_err_ratio(Rsat)','coldgas(Rsat)_iters']]=temp_coldgas\n",
    "        sgal_full_thick_shapes.loc[num,['tot_a_vec(Rsat)','tot_b_vec(Rsat)','tot_c_vec(Rsat)','tot(Rsat)_errs','tot(Rsat)_px_start_end','tot(Rsat)_err_msg']]=tot_vars\n",
    "        sgal_full_thick_shapes.loc[num,['tot_p(Rsat)','tot_q(Rsat)','star_px_err_ratio(Rsat)','tot(Rsat)_iters']]=temp_tot\n",
    "        print '\\n'\n",
    "\n",
    "        sgal_full_thick_shapes.loc[num,'calculated']=True\n",
    "        print 'Deleting snapshot from Node', '\\n'\n",
    "        purge(sim_cat.loc[sid]['index'])\n",
    "\n",
    "        if i%100==0:\n",
    "            path_1 = r'/vol/sci/astro/home/adambeilialpha/'\n",
    "            sgal_full_thick_shapes.to_pickle(path_1 + r'/sgal_full_thick_shapes_'+str(i)+'.pkl')\n",
    "\n",
    "        #if 5==i:\n",
    "        #    break\n",
    "        i+=1    \n",
    "    "
   ]
  },
  {
   "cell_type": "markdown",
   "metadata": {},
   "source": [
    "# Old Version"
   ]
  },
  {
   "cell_type": "code",
   "execution_count": 79,
   "metadata": {},
   "outputs": [],
   "source": [
    "reload(st)\n",
    "def radius_finding_calc():\n",
    "    i=0\n",
    "\n",
    "    for index, row in sgal_full_thick_shapes_2.iterrows():\n",
    "        #Checking if already run on this row\n",
    "        if sgal_full_thick_shapes_2.iloc[i]['calculated']==True:\n",
    "            i+=1\n",
    "            continue\n",
    "        \n",
    "        #Importing data\n",
    "        print 'Copying snapshot to Node', '\\n'\n",
    "        sgal_cat_s = sgal_full_thick_shapes_2.iloc[i]\n",
    "        sid=sgal_cat_s['sim_id']\n",
    "        path=sim_cat.loc[sid]['sim_dir'].replace('from_nas2','').replace('nas2','nas3')\n",
    "        gax=sim_cat.loc[sid]['galaxynumber']\n",
    "        idx=sim_cat.loc[sid]['index']\n",
    "        copy_to_tmp(path,gax,idx)\n",
    "        \n",
    "        st.ds = yt.load(os.path.join(_TMP_PATH_,'10MpcBox_csf512_'+idx+'.d')) \n",
    "        \n",
    "        #function that makes the sphere\n",
    "        #st.get_sp(sgal_cat_s)\n",
    "        \n",
    "        #running shapetensor(r) function on the current galaxy\n",
    "        print i, '    ', 'gal_num:',sgal_cat_s['galaxynumber'],' snapshot:',  sgal_cat_s['aexp'].round(2), '\\n'\n",
    "        \n",
    "        s=sgal_full_thick_shapes_2.columns.get_loc\n",
    "        \n",
    "        #sgal_shape_df.loc[index,['r_der','r_1min','r_dm','r_dm_half'] = st.return_rad(sgal_cat_s)\n",
    "        mat_arr,mass_arr=st.imp_data(sgal_cat_s)\n",
    "\n",
    "        print \"1kpc\",'\\n'\n",
    "        star_vars,dm_vars,gas_vars,coldgas_vars,tot_vars = st.shapetensor(mat_arr,mass_arr,1)\n",
    "        sgal_full_thick_shapes_2.iloc[i,[s('stars_p(1kpc)'),s('stars_q(1kpc)'),s('stars_a_vec(1kpc)'),s('stars_b_vec(1kpc)'),s('stars_c_vec(1kpc)'),s('stars(1kpc)_errs'),s('stars(1kpc)_px_start_end'),s('star_px_err_ratio(1kpc)'),s('stars(1kpc)_iters'),s('stars(1kpc)_err_msg')]] = star_vars\n",
    "        sgal_full_thick_shapes_2.iloc[i,[s('gas_p(1kpc)'),s('gas_q(1kpc)'),s('gas_a_vec(1kpc)'),s('gas_b_vec(1kpc)'),s('gas_c_vec(1kpc)'),s('gas(1kpc)_errs'),s('gas(1kpc)_px_start_end'),s('gas_px_err_ratio(1kpc)'),s('gas(1kpc)_iters'),s('gas(1kpc)_err_msg')]] = gas_vars\n",
    "        sgal_full_thick_shapes_2.iloc[i,[s('dm_p(1kpc)'),s('dm_q(1kpc)'),s('dm_a_vec(1kpc)'),s('dm_b_vec(1kpc)'),s('dm_c_vec(1kpc)'),s('dm(1kpc)_errs'),s('dm(1kpc)_px_start_end'),s('dm_px_err_ratio(1kpc)'),s('dm(1kpc)_iters'),s('dm(1kpc)_err_msg')]] = dm_vars\n",
    "        #sgal_full_thick_shapes_2.iloc[i,[s('youngstars_p(1kpc)'),s('youngstars_q(1kpc)'),s('youngstars_a_vec(1kpc)'),s('youngstars_b_vec(1kpc)'),s('youngstars_c_vec(1kpc)'),s('youngstars(1kpc)_errs'),s('youngstars(1kpc)_px_start_end'),s('youngstar_px_err_ratio(1kpc)'),s('youngstars(1kpc)_iters'),s('youngstars(1kpc)_err_msg')]] = youngstar_vars\n",
    "        sgal_full_thick_shapes_2.iloc[i,[s('coldgas_p(1kpc)'),s('coldgas_q(1kpc)'),s('coldgas_a_vec(1kpc)'),s('coldgas_b_vec(1kpc)'),s('coldgas_c_vec(1kpc)'),s('coldgas(1kpc)_errs'),s('coldgas(1kpc)_px_start_end'),s('coldgas_px_err_ratio(1kpc)'),s('coldgas(1kpc)_iters'),s('coldgas(1kpc)_err_msg')]] = coldgas_vars\n",
    "        sgal_full_thick_shapes_2.iloc[i,[s('tot_p(1kpc)'),s('tot_q(1kpc)'),s('tot_a_vec(1kpc)'),s('tot_b_vec(1kpc)'),s('tot_c_vec(1kpc)'),s('tot(1kpc)_errs'),s('tot(1kpc)_px_start_end'),s('tot_px_err_ratio(1kpc)'),s('tot(1kpc)_iters'),s('tot(1kpc)_err_msg')]] = tot_vars                \n",
    "        \n",
    "        print '\\n'\n",
    "        print \"0.5kpc\", '\\n'\n",
    "        star_vars,dm_vars,gas_vars,coldgas_vars,tot_vars = st.shapetensor(mat_arr,mass_arr,0.5)\n",
    "        sgal_full_thick_shapes_2.iloc[i,[s('stars_p(0.5kpc)'),s('stars_q(0.5kpc)'),s('stars_a_vec(0.5kpc)'),s('stars_b_vec(0.5kpc)'),s('stars_c_vec(0.5kpc)'),s('stars(0.5kpc)_errs'),s('stars(0.5kpc)_px_start_end'),s('star_px_err_ratio(0.5kpc)'),s('stars(0.5kpc)_iters'),s('stars(0.5kpc)_err_msg')]] = star_vars\n",
    "        sgal_full_thick_shapes_2.iloc[i,[s('gas_p(0.5kpc)'),s('gas_q(0.5kpc)'),s('gas_a_vec(0.5kpc)'),s('gas_b_vec(0.5kpc)'),s('gas_c_vec(0.5kpc)'),s('gas(0.5kpc)_errs'),s('gas(0.5kpc)_px_start_end'),s('gas_px_err_ratio(0.5kpc)'),s('gas(0.5kpc)_iters'),s('gas(0.5kpc)_err_msg')]] = gas_vars\n",
    "        sgal_full_thick_shapes_2.iloc[i,[s('dm_p(0.5kpc)'),s('dm_q(0.5kpc)'),s('dm_a_vec(0.5kpc)'),s('dm_b_vec(0.5kpc)'),s('dm_c_vec(0.5kpc)'),s('dm(0.5kpc)_errs'),s('dm(0.5kpc)_px_start_end'),s('dm_px_err_ratio(0.5kpc)'),s('dm(0.5kpc)_iters'),s('dm(0.5kpc)_err_msg')]] = dm_vars\n",
    "        #sgal_full_thick_shapes_2.iloc[i,[s('youngstars_p(0.5kpc)'),s('youngstars_q(0.5kpc)'),s('youngstars_a_vec(0.5kpc)'),s('youngstars_b_vec(0.5kpc)'),s('youngstars_c_vec(0.5kpc)'),s('youngstars(0.5kpc)_errs'),s('youngstars(0.5kpc)_px_start_end'),s('youngstar_px_err_ratio(0.5kpc)'),s('youngstars(0.5kpc)_iters'),s('youngstars(0.5kpc)_err_msg')]] = youngstar_vars\n",
    "        sgal_full_thick_shapes_2.iloc[i,[s('coldgas_p(0.5kpc)'),s('coldgas_q(0.5kpc)'),s('coldgas_a_vec(0.5kpc)'),s('coldgas_b_vec(0.5kpc)'),s('coldgas_c_vec(0.5kpc)'),s('coldgas(0.5kpc)_errs'),s('coldgas(0.5kpc)_px_start_end'),s('coldgas_px_err_ratio(0.5kpc)'),s('coldgas(0.5kpc)_iters'),s('coldgas(0.5kpc)_err_msg')]] = coldgas_vars\n",
    "        sgal_full_thick_shapes_2.iloc[i,[s('tot_p(0.5kpc)'),s('tot_q(0.5kpc)'),s('tot_a_vec(0.5kpc)'),s('tot_b_vec(0.5kpc)'),s('tot_c_vec(0.5kpc)'),s('tot(0.5kpc)_errs'),s('tot(0.5kpc)_px_start_end'),s('tot_px_err_ratio(0.5kpc)'),s('tot(0.5kpc)_iters'),s('tot(0.5kpc)_err_msg')]] = tot_vars                \n",
    "        \n",
    "        print '\\n'\n",
    "        print \"Rsat\", '\\n'\n",
    "        star_vars,dm_vars,gas_vars,coldgas_vars,tot_vars = st.shapetensor(mat_arr,mass_arr,sgal_cat_s['Rsat[kpc]'])       \n",
    "        sgal_full_thick_shapes_2.iloc[i,[s('stars_p(Rsat)'),s('stars_q(Rsat)'),s('stars_a_vec(Rsat)'),s('stars_b_vec(Rsat)'),s('stars_c_vec(Rsat)'),s('stars(Rsat)_errs'),s('stars(Rsat)_px_start_end'),s('star_px_err_ratio(Rsat)'),s('stars(Rsat)_iters'),s('stars(Rsat)_err_msg')]] = star_vars\n",
    "        sgal_full_thick_shapes_2.iloc[i,[s('gas_p(Rsat)'),s('gas_q(Rsat)'),s('gas_a_vec(Rsat)'),s('gas_b_vec(Rsat)'),s('gas_c_vec(Rsat)'),s('gas(Rsat)_errs'),s('gas(Rsat)_px_start_end'),s('gas_px_err_ratio(Rsat)'),s('gas(Rsat)_iters'),s('gas(Rsat)_err_msg')]] = gas_vars\n",
    "        sgal_full_thick_shapes_2.iloc[i,[s('dm_p(Rsat)'),s('dm_q(Rsat)'),s('dm_a_vec(Rsat)'),s('dm_b_vec(Rsat)'),s('dm_c_vec(Rsat)'),s('dm(Rsat)_errs'),s('dm(Rsat)_px_start_end'),s('dm_px_err_ratio(Rsat)'),s('dm(Rsat)_iters'),s('dm(Rsat)_err_msg')]] = dm_vars\n",
    "        #sgal_full_thick_shapes_2.iloc[i,[s('youngstars_p(Rsat)'),s('youngstars_q(Rsat)'),s('youngstars_a_vec(Rsat)'),s('youngstars_b_vec(Rsat)'),s('youngstars_c_vec(Rsat)'),s('youngstars(Rsat)_errs'),s('youngstars(Rsat)_px_start_end'),s('youngstar_px_err_ratio(Rsat)'),s('youngstars(Rsat)_iters'),s('youngstars(Rsat)_err_msg')]] = youngstar_vars\n",
    "        sgal_full_thick_shapes_2.iloc[i,[s('coldgas_p(Rsat)'),s('coldgas_q(Rsat)'),s('coldgas_a_vec(Rsat)'),s('coldgas_b_vec(Rsat)'),s('coldgas_c_vec(Rsat)'),s('coldgas(Rsat)_errs'),s('coldgas(Rsat)_px_start_end'),s('coldgas_px_err_ratio(Rsat)'),s('coldgas(Rsat)_iters'),s('coldgas(Rsat)_err_msg')]] = coldgas_vars\n",
    "        sgal_full_thick_shapes_2.iloc[i,[s('tot_p(Rsat)'),s('tot_q(Rsat)'),s('tot_a_vec(Rsat)'),s('tot_b_vec(Rsat)'),s('tot_c_vec(Rsat)'),s('tot(Rsat)_errs'),s('tot(Rsat)_px_start_end'),s('tot_px_err_ratio(Rsat)'),s('tot(Rsat)_iters'),s('tot(Rsat)_err_msg')]] = tot_vars                \n",
    "        print '\\n'\n",
    "\n",
    "        sgal_full_thick_shapes_2.iloc[i,s('calculated')]=True\n",
    "        print 'Deleting snapshot from Node', '\\n'\n",
    "        purge(sim_cat.loc[sid]['index'])\n",
    "\n",
    "        if i%100==0:\n",
    "            path_1 = r'/vol/sci/astro/home/adambeilialpha/'\n",
    "            sgal_full_thick_shapes_2.to_pickle(path_1 + r'/sgal_full_thick_shape_'+str(i)+'.pkl')\n",
    "\n",
    "        #if 5==i:\n",
    "        #    break\n",
    "        i+=1    \n",
    "    "
   ]
  },
  {
   "cell_type": "code",
   "execution_count": 78,
   "metadata": {},
   "outputs": [
    {
     "name": "stdout",
     "output_type": "stream",
     "text": [
      "Copying snapshot to Node \n",
      "\n"
     ]
    },
    {
     "name": "stderr",
     "output_type": "stream",
     "text": [
      "yt : [INFO     ] 2020-08-01 22:45:26,174 discovered particle_data:/tmp/PEJVRFUVLBRF/PMcrs0a0.150.DAT\n",
      "yt : [INFO     ] 2020-08-01 22:45:26,177 discovered particle_header:/tmp/PEJVRFUVLBRF/PMcrda0.150.DAT\n",
      "yt : [INFO     ] 2020-08-01 22:45:26,179 discovered particle_stars:/tmp/PEJVRFUVLBRF/stars_a0.150.dat\n",
      "yt : [INFO     ] 2020-08-01 22:45:26,190 Using root level of 12\n",
      "yt : [INFO     ] 2020-08-01 22:45:26,193 Discovered 5 species of particles\n",
      "yt : [INFO     ] 2020-08-01 22:45:26,195 Particle populations:   8567808    451584     63712   2065398     43042 \n",
      "yt : [INFO     ] 2020-08-01 22:45:26,349 Max level is 09\n",
      "yt : [INFO     ] 2020-08-01 22:45:26,403 Parameters: current_time              = 1.03974348422 Gyr\n",
      "yt : [INFO     ] 2020-08-01 22:45:26,405 Parameters: domain_dimensions         = [128 128 128]\n",
      "yt : [INFO     ] 2020-08-01 22:45:26,408 Parameters: domain_left_edge          = [ 0.  0.  0.]\n",
      "yt : [INFO     ] 2020-08-01 22:45:26,410 Parameters: domain_right_edge         = [ 1.  1.  1.]\n",
      "yt : [INFO     ] 2020-08-01 22:45:26,413 Parameters: cosmological_simulation   = True\n",
      "yt : [INFO     ] 2020-08-01 22:45:26,415 Parameters: current_redshift          = 5.6663419034\n",
      "yt : [INFO     ] 2020-08-01 22:45:26,417 Parameters: omega_lambda              = 0.730000019073\n",
      "yt : [INFO     ] 2020-08-01 22:45:26,420 Parameters: omega_matter              = 0.270000010729\n",
      "yt : [INFO     ] 2020-08-01 22:45:26,422 Parameters: hubble_constant           = 0.699999988079\n"
     ]
    },
    {
     "name": "stdout",
     "output_type": "stream",
     "text": [
      "0      gal_num: 01  snapshot: 0.15 \n",
      "\n",
      "Importing star data\n",
      "Importing dark matter data\n",
      "Importing gas data\n",
      "Importing Coldgas data\n",
      "Importing total matter data\n",
      "1kpc \n",
      "\n",
      "Stars\n",
      "5411\n",
      "('scale, err, radii = ', 1.1100000000000001, 0.029999999999999999, 4849, 0.83979765912528281, 0.79744355472471307)\n",
      "('px_err_ratio: ', 0.06078896313860746)\n",
      "radii: a=1.00, b=0.82, c=0.74 \n",
      "('vectors: a, b, c = ', array([ 0.7703511 ,  0.52719655,  0.35864045]), array([ 0.0715573 ,  0.48743305, -0.87022329]), array([ 0.63359193, -0.69604081, -0.33776982]))\n",
      "('err_ratios = ', 0.026994345694958559)\n",
      "('err_msg = ', 'All good')\n",
      "Darkmatter\n",
      "6571\n",
      "('scale, err, radii = ', 1.04, 0.050000000000000003, 5583, 0.9152048568284652, 0.80321924953136781)\n",
      "('px_err_ratio: ', 0.07677543186180422)\n",
      "('scale, err, radii = ', 1.0800000000000001, 0.050000000000000003, 5237, 0.82671094277424606, 0.76289963835386154)\n",
      "('px_err_ratio: ', 0.053423031262366444)\n",
      "('scale, err, radii = ', 1.1100000000000001, 0.029999999999999999, 5141, 0.84378915685149658, 0.70331786505442506)\n",
      "('px_err_ratio: ', 0.05562322371092164)\n",
      "radii: a=1.00, b=0.84, c=0.66 \n",
      "('vectors: a, b, c = ', array([-0.59997716, -0.49545206, -0.62813586]), array([ 0.52035767, -0.83805303,  0.16399697]), array([ 0.6076638 ,  0.22846088, -0.76062496]))\n",
      "('err_ratios = ', 0.025874240697302358)\n",
      "('err_msg = ', 'All good')\n",
      "Gas\n",
      "14289\n",
      "('scale, err, radii = ', 0.79000000000000004, 0.070000000000000007, 8146, 0.76785374549596386, 0.61719606144065253)\n",
      "('px_err_ratio: ', 0.28397657305901786)\n",
      "('scale, err, radii = ', 0.91000000000000003, 0.16, 7063, 0.66493041060381342, 0.56302643230560545)\n",
      "('px_err_ratio: ', 0.45590955806783146)\n",
      "('scale, err, radii = ', 0.82999999999999996, 0.14999999999999999, 4885, 0.61087956673255572, 0.37701782613499457)\n",
      "('px_err_ratio: ', 0.37611358574610243)\n",
      "('scale, err, radii = ', 0.88, 0.10000000000000001, 3650, 0.6071943034940217, 0.27850604144418861)\n",
      "('px_err_ratio: ', 0.2837559972583962)\n",
      "('scale, err, radii = ', 0.91000000000000003, 0.089999999999999997, 3014, 0.60994694840726993, 0.22670124811636147)\n",
      "('px_err_ratio: ', 0.3340630472854641)\n",
      "('scale, err, radii = ', 0.90000000000000002, 0.10000000000000001, 2317, 0.57948653820769547, 0.17921817118421612)\n",
      "('px_err_ratio: ', 0.4595103578154426)\n",
      "('scale, err, radii = ', 0.88, 0.13, 1601, 0.53588569230998062, 0.13448885572648889)\n",
      "('px_err_ratio: ', 0.3977371627502176)\n",
      "('scale, err, radii = ', 0.85999999999999999, 0.12, 1154, 0.49944272321249283, 0.096537185985970331)\n",
      "('px_err_ratio: ', 0.5531628532974427)\n",
      "('scale, err, radii = ', 0.82999999999999996, 0.089999999999999997, 743, 0.44876179680324441, 0.068311367993297345)\n",
      "('px_err_ratio: ', 0.25882352941176473)\n",
      "('scale, err, radii = ', 0.85999999999999999, 0.089999999999999997, 601, 0.43244814690539346, 0.055147706102189296)\n",
      "('px_err_ratio: ', 0.3839080459770115)\n",
      "('scale, err, radii = ', 0.83999999999999997, 0.14999999999999999, 436, 0.39334832735783604, 0.042110922488236793)\n",
      "('px_err_ratio: ', 0.3785488958990536)\n",
      "('scale, err, radii = ', 0.83999999999999997, 0.17000000000000001, 318, 0.39186619216204627, 0.030760011710667105)\n",
      "('px_err_ratio: ', 0.6614583333333334)\n",
      "('scale, err, radii = ', 0.80000000000000004, 0.23000000000000001, 193, 0.35336186441977896, 0.019811113506601228)\n",
      "('px_err_ratio: ', 0.5950413223140496)\n",
      "('scale, err, radii = ', 0.80000000000000004, 0.23999999999999999, 121, 0.35691934007943105, 0.012409296411262575)\n",
      "('px_err_ratio: ', 1.0862068965517242)\n",
      "('scale, err, radii = ', 0.79000000000000004, 0.26000000000000001, 58, 0.31503920078877007, 0.006771580542326361)\n",
      "('px_err_ratio: ', 1.9)\n",
      "('scale, err, radii = ', 0.78000000000000003, 0.69999999999999996, 20, 0.21994835982891148, 0.0027912799734902674)\n",
      "('px_err_ratio: ', 0.0)\n",
      "Error! px_amount<px_min!\n",
      "Coldgas\n",
      "2684\n",
      "('scale, err, radii = ', 0.79000000000000004, 0.070000000000000007, 1100, 0.7652452214349772, 0.61102450839843458)\n",
      "('px_err_ratio: ', 0.3255567338282078)\n",
      "('scale, err, radii = ', 0.90000000000000002, 0.17000000000000001, 1093, 0.66868092076153107, 0.54320625379796428)\n",
      "('px_err_ratio: ', 0.5514809590973202)\n",
      "('scale, err, radii = ', 0.83999999999999997, 0.14999999999999999, 716, 0.62907319758951541, 0.35960189822966993)\n",
      "('px_err_ratio: ', 0.38202247191011235)\n",
      "('scale, err, radii = ', 0.89000000000000001, 0.089999999999999997, 556, 0.64303007721718786, 0.26892978886312913)\n",
      "('px_err_ratio: ', 0.35091743119266056)\n",
      "('scale, err, radii = ', 0.92000000000000004, 0.080000000000000002, 469, 0.63157941311587884, 0.22117533948405327)\n",
      "('px_err_ratio: ', 0.38328530259365995)\n",
      "('scale, err, radii = ', 0.89000000000000001, 0.10000000000000001, 358, 0.57273381100458887, 0.17250521512227612)\n",
      "('px_err_ratio: ', 0.45161290322580644)\n",
      "('scale, err, radii = ', 0.85999999999999999, 0.089999999999999997, 250, 0.51572761270079093, 0.12745729719308865)\n",
      "('px_err_ratio: ', 0.37362637362637363)\n",
      "('scale, err, radii = ', 0.85999999999999999, 0.11, 182, 0.48298026526648014, 0.09959108151916278)\n",
      "('px_err_ratio: ', 0.6396396396396397)\n",
      "('scale, err, radii = ', 0.81999999999999995, 0.089999999999999997, 111, 0.4156032987036451, 0.068520760602621245)\n",
      "('px_err_ratio: ', 0.7903225806451613)\n",
      "('scale, err, radii = ', 0.81000000000000005, 0.10000000000000001, 62, 0.34370059628491911, 0.049702627404181909)\n",
      "('px_err_ratio: ', 1.0666666666666667)\n",
      "('scale, err, radii = ', 0.80000000000000004, 0.19, 30, 0.28018214246843104, 0.036177064335552421)\n",
      "('px_err_ratio: ', 1.2142857142857142)\n",
      "Error! px_amount<px_min!\n",
      "Total\n",
      "26271\n",
      "('scale, err, radii = ', 1.02, 0.040000000000000001, 21961, 0.88177881659298185, 0.79733461219675583)\n",
      "('px_err_ratio: ', 0.1394106049600498)\n",
      "radii: a=1.00, b=0.81, c=0.68 \n",
      "('vectors: a, b, c = ', array([-0.41132148, -0.74942325, -0.51882505]), array([ 0.71925808, -0.61650534,  0.32029513]), array([-0.55989504, -0.24142485,  0.79261062]))\n",
      "('err_ratios = ', 0.041168016766386484)\n",
      "('err_msg = ', 'All good')\n"
     ]
    },
    {
     "ename": "ValueError",
     "evalue": "Can only index by location with a [integer, integer slice (START point is INCLUDED, END point is EXCLUDED), listlike of integers, boolean array]",
     "output_type": "error",
     "traceback": [
      "\u001b[0;31m\u001b[0m",
      "\u001b[0;31mValueError\u001b[0mTraceback (most recent call last)",
      "\u001b[0;32m<ipython-input-78-3a4ff2ec71c8>\u001b[0m in \u001b[0;36m<module>\u001b[0;34m()\u001b[0m\n\u001b[1;32m      1\u001b[0m \u001b[0;31m# Problems begin\u001b[0m\u001b[0;34m\u001b[0m\u001b[0;34m\u001b[0m\u001b[0m\n\u001b[0;32m----> 2\u001b[0;31m \u001b[0mradius_finding_calc\u001b[0m\u001b[0;34m(\u001b[0m\u001b[0;34m)\u001b[0m\u001b[0;34m\u001b[0m\u001b[0m\n\u001b[0m",
      "\u001b[0;32m<ipython-input-77-6738c3ffc7fb>\u001b[0m in \u001b[0;36mradius_finding_calc\u001b[0;34m()\u001b[0m\n\u001b[1;32m     33\u001b[0m         \u001b[0;32mprint\u001b[0m \u001b[0;34m\"1kpc\"\u001b[0m\u001b[0;34m,\u001b[0m\u001b[0;34m'\\n'\u001b[0m\u001b[0;34m\u001b[0m\u001b[0m\n\u001b[1;32m     34\u001b[0m         \u001b[0mstar_vars\u001b[0m\u001b[0;34m,\u001b[0m\u001b[0mdm_vars\u001b[0m\u001b[0;34m,\u001b[0m\u001b[0mgas_vars\u001b[0m\u001b[0;34m,\u001b[0m\u001b[0mcoldgas_vars\u001b[0m\u001b[0;34m,\u001b[0m\u001b[0mtot_vars\u001b[0m \u001b[0;34m=\u001b[0m \u001b[0mst\u001b[0m\u001b[0;34m.\u001b[0m\u001b[0mshapetensor\u001b[0m\u001b[0;34m(\u001b[0m\u001b[0mmat_arr\u001b[0m\u001b[0;34m,\u001b[0m\u001b[0mmass_arr\u001b[0m\u001b[0;34m,\u001b[0m\u001b[0;36m1\u001b[0m\u001b[0;34m)\u001b[0m\u001b[0;34m\u001b[0m\u001b[0m\n\u001b[0;32m---> 35\u001b[0;31m         \u001b[0msgal_full_thick_shapes_2\u001b[0m\u001b[0;34m.\u001b[0m\u001b[0miloc\u001b[0m\u001b[0;34m[\u001b[0m\u001b[0msid\u001b[0m\u001b[0;34m,\u001b[0m\u001b[0;34m[\u001b[0m\u001b[0ms\u001b[0m\u001b[0;34m(\u001b[0m\u001b[0;34m'stars_p(1kpc)'\u001b[0m\u001b[0;34m)\u001b[0m\u001b[0;34m,\u001b[0m\u001b[0ms\u001b[0m\u001b[0;34m(\u001b[0m\u001b[0;34m'stars_q(1kpc)'\u001b[0m\u001b[0;34m)\u001b[0m\u001b[0;34m,\u001b[0m\u001b[0ms\u001b[0m\u001b[0;34m(\u001b[0m\u001b[0;34m'stars_a_vec(1kpc)'\u001b[0m\u001b[0;34m)\u001b[0m\u001b[0;34m,\u001b[0m\u001b[0ms\u001b[0m\u001b[0;34m(\u001b[0m\u001b[0;34m'stars_b_vec(1kpc)'\u001b[0m\u001b[0;34m)\u001b[0m\u001b[0;34m,\u001b[0m\u001b[0ms\u001b[0m\u001b[0;34m(\u001b[0m\u001b[0;34m'stars_c_vec(1kpc)'\u001b[0m\u001b[0;34m)\u001b[0m\u001b[0;34m,\u001b[0m\u001b[0ms\u001b[0m\u001b[0;34m(\u001b[0m\u001b[0;34m'stars(1kpc)_errs'\u001b[0m\u001b[0;34m)\u001b[0m\u001b[0;34m,\u001b[0m\u001b[0ms\u001b[0m\u001b[0;34m(\u001b[0m\u001b[0;34m'stars(1kpc)_px_start_end'\u001b[0m\u001b[0;34m)\u001b[0m\u001b[0;34m,\u001b[0m\u001b[0ms\u001b[0m\u001b[0;34m(\u001b[0m\u001b[0;34m'star_px_err_ratio(1kpc)'\u001b[0m\u001b[0;34m)\u001b[0m\u001b[0;34m,\u001b[0m\u001b[0ms\u001b[0m\u001b[0;34m(\u001b[0m\u001b[0;34m'stars(1kpc)_iters'\u001b[0m\u001b[0;34m)\u001b[0m\u001b[0;34m,\u001b[0m\u001b[0ms\u001b[0m\u001b[0;34m(\u001b[0m\u001b[0;34m'stars(1kpc)_err_msg'\u001b[0m\u001b[0;34m)\u001b[0m\u001b[0;34m]\u001b[0m\u001b[0;34m]\u001b[0m \u001b[0;34m=\u001b[0m \u001b[0mstar_vars\u001b[0m\u001b[0;34m\u001b[0m\u001b[0m\n\u001b[0m\u001b[1;32m     36\u001b[0m         \u001b[0msgal_full_thick_shapes_2\u001b[0m\u001b[0;34m.\u001b[0m\u001b[0miloc\u001b[0m\u001b[0;34m[\u001b[0m\u001b[0mi\u001b[0m\u001b[0;34m,\u001b[0m\u001b[0;34m[\u001b[0m\u001b[0ms\u001b[0m\u001b[0;34m(\u001b[0m\u001b[0;34m'gas_p(1kpc)'\u001b[0m\u001b[0;34m)\u001b[0m\u001b[0;34m,\u001b[0m\u001b[0ms\u001b[0m\u001b[0;34m(\u001b[0m\u001b[0;34m'gas_q(1kpc)'\u001b[0m\u001b[0;34m)\u001b[0m\u001b[0;34m,\u001b[0m\u001b[0ms\u001b[0m\u001b[0;34m(\u001b[0m\u001b[0;34m'gas_a_vec(1kpc)'\u001b[0m\u001b[0;34m)\u001b[0m\u001b[0;34m,\u001b[0m\u001b[0ms\u001b[0m\u001b[0;34m(\u001b[0m\u001b[0;34m'gas_b_vec(1kpc)'\u001b[0m\u001b[0;34m)\u001b[0m\u001b[0;34m,\u001b[0m\u001b[0ms\u001b[0m\u001b[0;34m(\u001b[0m\u001b[0;34m'gas_c_vec(1kpc)'\u001b[0m\u001b[0;34m)\u001b[0m\u001b[0;34m,\u001b[0m\u001b[0ms\u001b[0m\u001b[0;34m(\u001b[0m\u001b[0;34m'gas(1kpc)_errs'\u001b[0m\u001b[0;34m)\u001b[0m\u001b[0;34m,\u001b[0m\u001b[0ms\u001b[0m\u001b[0;34m(\u001b[0m\u001b[0;34m'gas(1kpc)_px_start_end'\u001b[0m\u001b[0;34m)\u001b[0m\u001b[0;34m,\u001b[0m\u001b[0ms\u001b[0m\u001b[0;34m(\u001b[0m\u001b[0;34m'gas_px_err_ratio(1kpc)'\u001b[0m\u001b[0;34m)\u001b[0m\u001b[0;34m,\u001b[0m\u001b[0ms\u001b[0m\u001b[0;34m(\u001b[0m\u001b[0;34m'gas(1kpc)_iters'\u001b[0m\u001b[0;34m)\u001b[0m\u001b[0;34m,\u001b[0m\u001b[0ms\u001b[0m\u001b[0;34m(\u001b[0m\u001b[0;34m'gas(1kpc)_err_msg'\u001b[0m\u001b[0;34m)\u001b[0m\u001b[0;34m]\u001b[0m\u001b[0;34m]\u001b[0m \u001b[0;34m=\u001b[0m \u001b[0mgas_vars\u001b[0m\u001b[0;34m\u001b[0m\u001b[0m\n\u001b[1;32m     37\u001b[0m         \u001b[0msgal_full_thick_shapes_2\u001b[0m\u001b[0;34m.\u001b[0m\u001b[0miloc\u001b[0m\u001b[0;34m[\u001b[0m\u001b[0mi\u001b[0m\u001b[0;34m,\u001b[0m\u001b[0;34m[\u001b[0m\u001b[0ms\u001b[0m\u001b[0;34m(\u001b[0m\u001b[0;34m'dm_p(1kpc)'\u001b[0m\u001b[0;34m)\u001b[0m\u001b[0;34m,\u001b[0m\u001b[0ms\u001b[0m\u001b[0;34m(\u001b[0m\u001b[0;34m'dm_q(1kpc)'\u001b[0m\u001b[0;34m)\u001b[0m\u001b[0;34m,\u001b[0m\u001b[0ms\u001b[0m\u001b[0;34m(\u001b[0m\u001b[0;34m'dm_a_vec(1kpc)'\u001b[0m\u001b[0;34m)\u001b[0m\u001b[0;34m,\u001b[0m\u001b[0ms\u001b[0m\u001b[0;34m(\u001b[0m\u001b[0;34m'dm_b_vec(1kpc)'\u001b[0m\u001b[0;34m)\u001b[0m\u001b[0;34m,\u001b[0m\u001b[0ms\u001b[0m\u001b[0;34m(\u001b[0m\u001b[0;34m'dm_c_vec(1kpc)'\u001b[0m\u001b[0;34m)\u001b[0m\u001b[0;34m,\u001b[0m\u001b[0ms\u001b[0m\u001b[0;34m(\u001b[0m\u001b[0;34m'dm(1kpc)_errs'\u001b[0m\u001b[0;34m)\u001b[0m\u001b[0;34m,\u001b[0m\u001b[0ms\u001b[0m\u001b[0;34m(\u001b[0m\u001b[0;34m'dm(1kpc)_px_start_end'\u001b[0m\u001b[0;34m)\u001b[0m\u001b[0;34m,\u001b[0m\u001b[0ms\u001b[0m\u001b[0;34m(\u001b[0m\u001b[0;34m'dm_px_err_ratio(1kpc)'\u001b[0m\u001b[0;34m)\u001b[0m\u001b[0;34m,\u001b[0m\u001b[0ms\u001b[0m\u001b[0;34m(\u001b[0m\u001b[0;34m'dm(1kpc)_iters'\u001b[0m\u001b[0;34m)\u001b[0m\u001b[0;34m,\u001b[0m\u001b[0ms\u001b[0m\u001b[0;34m(\u001b[0m\u001b[0;34m'dm(1kpc)_err_msg'\u001b[0m\u001b[0;34m)\u001b[0m\u001b[0;34m]\u001b[0m\u001b[0;34m]\u001b[0m \u001b[0;34m=\u001b[0m \u001b[0mdm_vars\u001b[0m\u001b[0;34m\u001b[0m\u001b[0m\n",
      "\u001b[0;32m/cs/sci/adambeilialpha/.local/lib/python2.7/site-packages/pandas/core/indexing.pyc\u001b[0m in \u001b[0;36m__setitem__\u001b[0;34m(self, key, value)\u001b[0m\n\u001b[1;32m    187\u001b[0m         \u001b[0;32melse\u001b[0m\u001b[0;34m:\u001b[0m\u001b[0;34m\u001b[0m\u001b[0m\n\u001b[1;32m    188\u001b[0m             \u001b[0mkey\u001b[0m \u001b[0;34m=\u001b[0m \u001b[0mcom\u001b[0m\u001b[0;34m.\u001b[0m\u001b[0mapply_if_callable\u001b[0m\u001b[0;34m(\u001b[0m\u001b[0mkey\u001b[0m\u001b[0;34m,\u001b[0m \u001b[0mself\u001b[0m\u001b[0;34m.\u001b[0m\u001b[0mobj\u001b[0m\u001b[0;34m)\u001b[0m\u001b[0;34m\u001b[0m\u001b[0m\n\u001b[0;32m--> 189\u001b[0;31m         \u001b[0mindexer\u001b[0m \u001b[0;34m=\u001b[0m \u001b[0mself\u001b[0m\u001b[0;34m.\u001b[0m\u001b[0m_get_setitem_indexer\u001b[0m\u001b[0;34m(\u001b[0m\u001b[0mkey\u001b[0m\u001b[0;34m)\u001b[0m\u001b[0;34m\u001b[0m\u001b[0m\n\u001b[0m\u001b[1;32m    190\u001b[0m         \u001b[0mself\u001b[0m\u001b[0;34m.\u001b[0m\u001b[0m_setitem_with_indexer\u001b[0m\u001b[0;34m(\u001b[0m\u001b[0mindexer\u001b[0m\u001b[0;34m,\u001b[0m \u001b[0mvalue\u001b[0m\u001b[0;34m)\u001b[0m\u001b[0;34m\u001b[0m\u001b[0m\n\u001b[1;32m    191\u001b[0m \u001b[0;34m\u001b[0m\u001b[0m\n",
      "\u001b[0;32m/cs/sci/adambeilialpha/.local/lib/python2.7/site-packages/pandas/core/indexing.pyc\u001b[0m in \u001b[0;36m_get_setitem_indexer\u001b[0;34m(self, key)\u001b[0m\n\u001b[1;32m    165\u001b[0m         \u001b[0;32mif\u001b[0m \u001b[0misinstance\u001b[0m\u001b[0;34m(\u001b[0m\u001b[0mkey\u001b[0m\u001b[0;34m,\u001b[0m \u001b[0mtuple\u001b[0m\u001b[0;34m)\u001b[0m\u001b[0;34m:\u001b[0m\u001b[0;34m\u001b[0m\u001b[0m\n\u001b[1;32m    166\u001b[0m             \u001b[0;32mtry\u001b[0m\u001b[0;34m:\u001b[0m\u001b[0;34m\u001b[0m\u001b[0m\n\u001b[0;32m--> 167\u001b[0;31m                 \u001b[0;32mreturn\u001b[0m \u001b[0mself\u001b[0m\u001b[0;34m.\u001b[0m\u001b[0m_convert_tuple\u001b[0m\u001b[0;34m(\u001b[0m\u001b[0mkey\u001b[0m\u001b[0;34m,\u001b[0m \u001b[0mis_setter\u001b[0m\u001b[0;34m=\u001b[0m\u001b[0mTrue\u001b[0m\u001b[0;34m)\u001b[0m\u001b[0;34m\u001b[0m\u001b[0m\n\u001b[0m\u001b[1;32m    168\u001b[0m             \u001b[0;32mexcept\u001b[0m \u001b[0mIndexingError\u001b[0m\u001b[0;34m:\u001b[0m\u001b[0;34m\u001b[0m\u001b[0m\n\u001b[1;32m    169\u001b[0m                 \u001b[0;32mpass\u001b[0m\u001b[0;34m\u001b[0m\u001b[0m\n",
      "\u001b[0;32m/cs/sci/adambeilialpha/.local/lib/python2.7/site-packages/pandas/core/indexing.pyc\u001b[0m in \u001b[0;36m_convert_tuple\u001b[0;34m(self, key, is_setter)\u001b[0m\n\u001b[1;32m    246\u001b[0m                 \u001b[0;32mif\u001b[0m \u001b[0mi\u001b[0m \u001b[0;34m>=\u001b[0m \u001b[0mself\u001b[0m\u001b[0;34m.\u001b[0m\u001b[0mobj\u001b[0m\u001b[0;34m.\u001b[0m\u001b[0mndim\u001b[0m\u001b[0;34m:\u001b[0m\u001b[0;34m\u001b[0m\u001b[0m\n\u001b[1;32m    247\u001b[0m                     \u001b[0;32mraise\u001b[0m \u001b[0mIndexingError\u001b[0m\u001b[0;34m(\u001b[0m\u001b[0;34m'Too many indexers'\u001b[0m\u001b[0;34m)\u001b[0m\u001b[0;34m\u001b[0m\u001b[0m\n\u001b[0;32m--> 248\u001b[0;31m                 \u001b[0midx\u001b[0m \u001b[0;34m=\u001b[0m \u001b[0mself\u001b[0m\u001b[0;34m.\u001b[0m\u001b[0m_convert_to_indexer\u001b[0m\u001b[0;34m(\u001b[0m\u001b[0mk\u001b[0m\u001b[0;34m,\u001b[0m \u001b[0maxis\u001b[0m\u001b[0;34m=\u001b[0m\u001b[0mi\u001b[0m\u001b[0;34m,\u001b[0m \u001b[0mis_setter\u001b[0m\u001b[0;34m=\u001b[0m\u001b[0mis_setter\u001b[0m\u001b[0;34m)\u001b[0m\u001b[0;34m\u001b[0m\u001b[0m\n\u001b[0m\u001b[1;32m    249\u001b[0m                 \u001b[0mkeyidx\u001b[0m\u001b[0;34m.\u001b[0m\u001b[0mappend\u001b[0m\u001b[0;34m(\u001b[0m\u001b[0midx\u001b[0m\u001b[0;34m)\u001b[0m\u001b[0;34m\u001b[0m\u001b[0m\n\u001b[1;32m    250\u001b[0m         \u001b[0;32mreturn\u001b[0m \u001b[0mtuple\u001b[0m\u001b[0;34m(\u001b[0m\u001b[0mkeyidx\u001b[0m\u001b[0;34m)\u001b[0m\u001b[0;34m\u001b[0m\u001b[0m\n",
      "\u001b[0;32m/cs/sci/adambeilialpha/.local/lib/python2.7/site-packages/pandas/core/indexing.pyc\u001b[0m in \u001b[0;36m_convert_to_indexer\u001b[0;34m(self, obj, axis, is_setter)\u001b[0m\n\u001b[1;32m   2249\u001b[0m         \u001b[0;32mexcept\u001b[0m \u001b[0mValueError\u001b[0m\u001b[0;34m:\u001b[0m\u001b[0;34m\u001b[0m\u001b[0m\n\u001b[1;32m   2250\u001b[0m             raise ValueError(\"Can only index by location with \"\n\u001b[0;32m-> 2251\u001b[0;31m                              \"a [{types}]\".format(types=self._valid_types))\n\u001b[0m\u001b[1;32m   2252\u001b[0m \u001b[0;34m\u001b[0m\u001b[0m\n\u001b[1;32m   2253\u001b[0m \u001b[0;34m\u001b[0m\u001b[0m\n",
      "\u001b[0;31mValueError\u001b[0m: Can only index by location with a [integer, integer slice (START point is INCLUDED, END point is EXCLUDED), listlike of integers, boolean array]"
     ]
    }
   ],
   "source": [
    "# Problems begin\n",
    "radius_finding_calc()"
   ]
  },
  {
   "cell_type": "code",
   "execution_count": null,
   "metadata": {},
   "outputs": [],
   "source": [
    "# ValueError: setting an array element with a sequence"
   ]
  },
  {
   "cell_type": "code",
   "execution_count": null,
   "metadata": {},
   "outputs": [],
   "source": [
    "# Attempting to find the problem"
   ]
  },
  {
   "cell_type": "code",
   "execution_count": 387,
   "metadata": {},
   "outputs": [
    {
     "name": "stderr",
     "output_type": "stream",
     "text": [
      "yt : [INFO     ] 2020-08-02 14:06:05,712 discovered particle_data:/vol/sci/astro/cosmo/nas3/ceverino/VELA_v2/VELA_v2_07/PMcrs0a0.170.DAT\n",
      "yt : [INFO     ] 2020-08-02 14:06:05,715 discovered particle_header:/vol/sci/astro/cosmo/nas3/ceverino/VELA_v2/VELA_v2_07/PMcrda0.170.DAT\n",
      "yt : [INFO     ] 2020-08-02 14:06:05,717 discovered particle_stars:/vol/sci/astro/cosmo/nas3/ceverino/VELA_v2/VELA_v2_07/stars_a0.170.dat\n",
      "yt : [INFO     ] 2020-08-02 14:06:06,005 Using root level of 14\n",
      "yt : [INFO     ] 2020-08-02 14:06:06,024 Discovered 7 species of particles\n",
      "yt : [INFO     ] 2020-08-02 14:06:06,027 Particle populations:  34930688   4943872    855040    139392     21776   2088309    364607 \n",
      "yt : [INFO     ] 2020-08-02 14:06:06,175 Max level is 12\n",
      "yt : [INFO     ] 2020-08-02 14:06:06,229 Parameters: current_time              = 1.25483306484 Gyr\n",
      "yt : [INFO     ] 2020-08-02 14:06:06,231 Parameters: domain_dimensions         = [128 128 128]\n",
      "yt : [INFO     ] 2020-08-02 14:06:06,234 Parameters: domain_left_edge          = [ 0.  0.  0.]\n",
      "yt : [INFO     ] 2020-08-02 14:06:06,236 Parameters: domain_right_edge         = [ 1.  1.  1.]\n",
      "yt : [INFO     ] 2020-08-02 14:06:06,239 Parameters: cosmological_simulation   = True\n",
      "yt : [INFO     ] 2020-08-02 14:06:06,241 Parameters: current_redshift          = 4.87824787233\n",
      "yt : [INFO     ] 2020-08-02 14:06:06,244 Parameters: omega_lambda              = 0.730000019073\n",
      "yt : [INFO     ] 2020-08-02 14:06:06,246 Parameters: omega_matter              = 0.270000010729\n",
      "yt : [INFO     ] 2020-08-02 14:06:06,248 Parameters: hubble_constant           = 0.699999988079\n"
     ]
    }
   ],
   "source": [
    "sgal_cat_s = sgal_full_thick_shapes.iloc[2502]\n",
    "num = sgal_full_thick_shapes.iloc[[2502]].index[0]\n",
    "ds1 = yt.load(sim_cat.loc[sgal_cat_s['sim_id']]['sim_path'].replace('from_nas2','').replace('nas2','nas3'))\n",
    "st.ds=ds1"
   ]
  },
  {
   "cell_type": "code",
   "execution_count": 388,
   "metadata": {
    "scrolled": true
   },
   "outputs": [
    {
     "name": "stdout",
     "output_type": "stream",
     "text": [
      "Importing star data\n",
      "Importing dark matter data\n",
      "Importing gas data\n",
      "Importing Coldgas data\n",
      "Importing total matter data\n",
      "1402\n",
      "('scale, err, radii = ', 1.1100000000000001, 0.10000000000000001, 1094, 0.79638664866209319, 0.54411856298021277)\n",
      "('px_err_ratio: ', 0.12557710064635272)\n",
      "('scale, err, radii = ', 1.4399999999999999, 0.11, 1208, 0.74856896015334851, 0.6212882967886707)\n",
      "('px_err_ratio: ', 0.06802721088435375)\n",
      "('scale, err, radii = ', 1.3400000000000001, 0.040000000000000001, 1224, 0.83570233645842795, 0.56014167363637768)\n",
      "('px_err_ratio: ', 0.08145580589254767)\n",
      "radii: a=1.00, b=0.76, c=0.49 \n",
      "('vectors: a, b, c = ', array([ 0.64385158,  0.40513389, -0.64909296]), array([-0.0628092 , -0.8174735 , -0.57253129]), array([-0.76256812,  0.40939419, -0.50088547]))\n",
      "('err_ratios = ', 0.04420998463521135)\n",
      "('err_msg = ', 'All good')\n"
     ]
    }
   ],
   "source": [
    "s=sgal_full_thick_shapes.columns.get_loc\n",
    "mat_arr,mass_arr=st.imp_data(sgal_cat_s)\n",
    "star_vars,temp_0 = st.compute_shape_iter(mat_arr[0],mass_arr[0],1)"
   ]
  },
  {
   "cell_type": "code",
   "execution_count": 389,
   "metadata": {},
   "outputs": [
    {
     "data": {
      "text/plain": [
       "[array([ 0.64385158,  0.40513389, -0.64909296]),\n",
       " array([-0.0628092 , -0.8174735 , -0.57253129]),\n",
       " array([-0.76256812,  0.40939419, -0.50088547]),\n",
       " [0.04420998463521135],\n",
       " ([1402], [1224]),\n",
       " 'All good']"
      ]
     },
     "execution_count": 389,
     "metadata": {},
     "output_type": "execute_result"
    }
   ],
   "source": [
    "#star_vars variables look like this:\n",
    "star_vars"
   ]
  },
  {
   "cell_type": "code",
   "execution_count": 396,
   "metadata": {},
   "outputs": [
    {
     "data": {
      "text/plain": [
       "[0.76493804958495148, 0.64314955570925225, 0.08145580589254767, 3]"
      ]
     },
     "execution_count": 396,
     "metadata": {},
     "output_type": "execute_result"
    }
   ],
   "source": [
    "temp_0"
   ]
  },
  {
   "cell_type": "code",
   "execution_count": 397,
   "metadata": {
    "scrolled": true
   },
   "outputs": [
    {
     "data": {
      "text/plain": [
       "stars_p(1kpc)                                                        0.764938\n",
       "stars_q(1kpc)                                                         0.64315\n",
       "stars_a_vec(1kpc)           [0.643851582174, 0.405133891251, -0.649092959669]\n",
       "stars_b_vec(1kpc)           [-0.0628092040012, -0.817473504217, -0.5725312...\n",
       "stars_c_vec(1kpc)           [-0.762568124186, 0.40939418665, -0.500885471853]\n",
       "stars(1kpc)_errs                                            [0.0442099846352]\n",
       "stars(1kpc)_px_start_end                                     ([1402], [1224])\n",
       "star_px_err_ratio(1kpc)                                             0.0814558\n",
       "stars(1kpc)_iters                                                           3\n",
       "stars(1kpc)_err_msg                                                  All good\n",
       "Name: VELA_v2.Thick.07.a0.170118719339_00009, dtype: object"
      ]
     },
     "execution_count": 397,
     "metadata": {},
     "output_type": "execute_result"
    }
   ],
   "source": [
    "#sgal_full_thick_shapes variables that attempting to fill look like this:\n",
    "sgal_full_thick_shapes.iloc[2502][['stars_p(1kpc)','stars_q(1kpc)','stars_a_vec(1kpc)','stars_b_vec(1kpc)','stars_c_vec(1kpc)','stars(1kpc)_errs','stars(1kpc)_px_start_end','star_px_err_ratio(1kpc)','stars(1kpc)_iters','stars(1kpc)_err_msg']]"
   ]
  },
  {
   "cell_type": "code",
   "execution_count": 394,
   "metadata": {},
   "outputs": [],
   "source": [
    "sgal_full_thick_shapes.loc[num,['stars_a_vec(1kpc)','stars_b_vec(1kpc)','stars_c_vec(1kpc)','stars(1kpc)_errs','stars(1kpc)_px_start_end','stars(1kpc)_err_msg']]=star_vars"
   ]
  },
  {
   "cell_type": "code",
   "execution_count": 395,
   "metadata": {},
   "outputs": [],
   "source": [
    "sgal_full_thick_shapes.loc[num,['stars_p(1kpc)','stars_q(1kpc)','star_px_err_ratio(1kpc)','stars(1kpc)_iters']]=temp_0"
   ]
  },
  {
   "cell_type": "code",
   "execution_count": 210,
   "metadata": {
    "scrolled": true
   },
   "outputs": [],
   "source": [
    "# Error, why?\n",
    "sgal_full_thick_shapes.iloc[2504,[s('stars_p(1kpc)'),s('stars_q(1kpc)'),s('stars(1kpc)_errs'),s('stars(1kpc)_px_start_end'),s('star_px_err_ratio(1kpc)'),s('stars(1kpc)_iters'),s('stars(1kpc)_err_msg')]] = kms"
   ]
  },
  {
   "cell_type": "code",
   "execution_count": null,
   "metadata": {},
   "outputs": [],
   "source": []
  },
  {
   "cell_type": "code",
   "execution_count": 199,
   "metadata": {},
   "outputs": [
    {
     "data": {
      "text/plain": [
       "stars_p(1kpc)                         0.884523\n",
       "stars_q(1kpc)                         0.771185\n",
       "stars(1kpc)_errs             [0.0371353381493]\n",
       "stars(1kpc)_px_start_end    [[15225], [14271]]\n",
       "star_px_err_ratio(1kpc)               0.028763\n",
       "stars(1kpc)_iters                            1\n",
       "stars(1kpc)_err_msg                   All good\n",
       "Name: VELA_v2.Thick.07.a0.170118719339_00007, dtype: object"
      ]
     },
     "execution_count": 199,
     "metadata": {},
     "output_type": "execute_result"
    }
   ],
   "source": [
    "sgal_full_thick_shapes.iloc[2500][['stars_p(1kpc)','stars_q(1kpc)','stars(1kpc)_errs','stars(1kpc)_px_start_end','star_px_err_ratio(1kpc)','stars(1kpc)_iters','stars(1kpc)_err_msg']] = temp_0"
   ]
  },
  {
   "cell_type": "code",
   "execution_count": 209,
   "metadata": {},
   "outputs": [],
   "source": [
    "kms = {0:1,1:2,2:2,3:[[12],[21]],4:[0.02],5:[2],6:['all_good']}"
   ]
  },
  {
   "cell_type": "code",
   "execution_count": 214,
   "metadata": {},
   "outputs": [
    {
     "data": {
      "text/plain": [
       "[0.74499371255261115,\n",
       " 0.94188198317862337,\n",
       " [0.047574735860896673],\n",
       " ([8170], [7371]),\n",
       " 0.05239862935465448,\n",
       " 1,\n",
       " 'All good']"
      ]
     },
     "execution_count": 214,
     "metadata": {},
     "output_type": "execute_result"
    }
   ],
   "source": [
    "star_vars"
   ]
  },
  {
   "cell_type": "code",
   "execution_count": 360,
   "metadata": {},
   "outputs": [],
   "source": [
    "df = pd.DataFrame(columns=('a','b'),index = [0,1,2,3])"
   ]
  },
  {
   "cell_type": "code",
   "execution_count": 361,
   "metadata": {},
   "outputs": [],
   "source": [
    "df['nan']=[np.nan]*len(df)\n",
    "df['err']=''\n",
    "df['tuple1']=[[np.nan,np.nan]]*len(df)\n",
    "df['tuple2']=[tuple([])]*len(df)\n",
    "df['vec']=[np.zeros(3)]*len(df)\n"
   ]
  },
  {
   "cell_type": "code",
   "execution_count": 362,
   "metadata": {},
   "outputs": [
    {
     "data": {
      "text/html": [
       "<div>\n",
       "<style scoped>\n",
       "    .dataframe tbody tr th:only-of-type {\n",
       "        vertical-align: middle;\n",
       "    }\n",
       "\n",
       "    .dataframe tbody tr th {\n",
       "        vertical-align: top;\n",
       "    }\n",
       "\n",
       "    .dataframe thead th {\n",
       "        text-align: right;\n",
       "    }\n",
       "</style>\n",
       "<table border=\"1\" class=\"dataframe\">\n",
       "  <thead>\n",
       "    <tr style=\"text-align: right;\">\n",
       "      <th></th>\n",
       "      <th>a</th>\n",
       "      <th>b</th>\n",
       "      <th>nan</th>\n",
       "      <th>err</th>\n",
       "      <th>tuple1</th>\n",
       "      <th>tuple2</th>\n",
       "      <th>vec</th>\n",
       "    </tr>\n",
       "  </thead>\n",
       "  <tbody>\n",
       "    <tr>\n",
       "      <th>0</th>\n",
       "      <td>NaN</td>\n",
       "      <td>NaN</td>\n",
       "      <td>NaN</td>\n",
       "      <td></td>\n",
       "      <td>[nan, nan]</td>\n",
       "      <td>()</td>\n",
       "      <td>[0.0, 0.0, 0.0]</td>\n",
       "    </tr>\n",
       "    <tr>\n",
       "      <th>1</th>\n",
       "      <td>NaN</td>\n",
       "      <td>NaN</td>\n",
       "      <td>NaN</td>\n",
       "      <td></td>\n",
       "      <td>[nan, nan]</td>\n",
       "      <td>()</td>\n",
       "      <td>[0.0, 0.0, 0.0]</td>\n",
       "    </tr>\n",
       "    <tr>\n",
       "      <th>2</th>\n",
       "      <td>NaN</td>\n",
       "      <td>NaN</td>\n",
       "      <td>NaN</td>\n",
       "      <td></td>\n",
       "      <td>[nan, nan]</td>\n",
       "      <td>()</td>\n",
       "      <td>[0.0, 0.0, 0.0]</td>\n",
       "    </tr>\n",
       "    <tr>\n",
       "      <th>3</th>\n",
       "      <td>NaN</td>\n",
       "      <td>NaN</td>\n",
       "      <td>NaN</td>\n",
       "      <td></td>\n",
       "      <td>[nan, nan]</td>\n",
       "      <td>()</td>\n",
       "      <td>[0.0, 0.0, 0.0]</td>\n",
       "    </tr>\n",
       "  </tbody>\n",
       "</table>\n",
       "</div>"
      ],
      "text/plain": [
       "     a    b  nan err      tuple1 tuple2              vec\n",
       "0  NaN  NaN  NaN      [nan, nan]     ()  [0.0, 0.0, 0.0]\n",
       "1  NaN  NaN  NaN      [nan, nan]     ()  [0.0, 0.0, 0.0]\n",
       "2  NaN  NaN  NaN      [nan, nan]     ()  [0.0, 0.0, 0.0]\n",
       "3  NaN  NaN  NaN      [nan, nan]     ()  [0.0, 0.0, 0.0]"
      ]
     },
     "execution_count": 362,
     "metadata": {},
     "output_type": "execute_result"
    }
   ],
   "source": [
    "df"
   ]
  },
  {
   "cell_type": "code",
   "execution_count": 348,
   "metadata": {},
   "outputs": [],
   "source": [
    "kms1 = [0.1,['all good'],[1,2],[[1],[2]],np.array([0.1,0.2,0.3])]\n",
    "kms_test = [['all good'],[1,2],[[1],[2]],[0.1,0.2,0.3]]\n",
    "kms_test2 = [float(0.3),[1,2],[[1],[2]],[0.1,0.2,0.3]]"
   ]
  },
  {
   "cell_type": "code",
   "execution_count": 367,
   "metadata": {
    "scrolled": true
   },
   "outputs": [
    {
     "ename": "ValueError",
     "evalue": "setting an array element with a sequence.",
     "output_type": "error",
     "traceback": [
      "\u001b[0;31m\u001b[0m",
      "\u001b[0;31mValueError\u001b[0mTraceback (most recent call last)",
      "\u001b[0;32m<ipython-input-367-8b6dcb99ae84>\u001b[0m in \u001b[0;36m<module>\u001b[0;34m()\u001b[0m\n\u001b[0;32m----> 1\u001b[0;31m \u001b[0mdf\u001b[0m\u001b[0;34m.\u001b[0m\u001b[0mloc\u001b[0m\u001b[0;34m[\u001b[0m\u001b[0;36m1\u001b[0m\u001b[0;34m,\u001b[0m\u001b[0;34m[\u001b[0m\u001b[0;34m'a'\u001b[0m\u001b[0;34m,\u001b[0m\u001b[0;34m'nan'\u001b[0m\u001b[0;34m,\u001b[0m\u001b[0;34m'tuple1'\u001b[0m\u001b[0;34m]\u001b[0m\u001b[0;34m]\u001b[0m\u001b[0;34m=\u001b[0m\u001b[0;34m[\u001b[0m\u001b[0;36m0.2\u001b[0m\u001b[0;34m,\u001b[0m\u001b[0;36m2\u001b[0m\u001b[0;34m,\u001b[0m\u001b[0;34m[\u001b[0m\u001b[0;34m[\u001b[0m\u001b[0;34m[\u001b[0m\u001b[0;34m[\u001b[0m\u001b[0mtuple\u001b[0m\u001b[0;34m(\u001b[0m\u001b[0;34m[\u001b[0m\u001b[0;36m1\u001b[0m\u001b[0;34m,\u001b[0m\u001b[0;36m2\u001b[0m\u001b[0;34m]\u001b[0m\u001b[0;34m)\u001b[0m\u001b[0;34m]\u001b[0m\u001b[0;34m]\u001b[0m\u001b[0;34m]\u001b[0m\u001b[0;34m]\u001b[0m\u001b[0;34m]\u001b[0m\u001b[0;34m\u001b[0m\u001b[0m\n\u001b[0m",
      "\u001b[0;32m/cs/sci/adambeilialpha/.local/lib/python2.7/site-packages/pandas/core/indexing.pyc\u001b[0m in \u001b[0;36m__setitem__\u001b[0;34m(self, key, value)\u001b[0m\n\u001b[1;32m    188\u001b[0m             \u001b[0mkey\u001b[0m \u001b[0;34m=\u001b[0m \u001b[0mcom\u001b[0m\u001b[0;34m.\u001b[0m\u001b[0mapply_if_callable\u001b[0m\u001b[0;34m(\u001b[0m\u001b[0mkey\u001b[0m\u001b[0;34m,\u001b[0m \u001b[0mself\u001b[0m\u001b[0;34m.\u001b[0m\u001b[0mobj\u001b[0m\u001b[0;34m)\u001b[0m\u001b[0;34m\u001b[0m\u001b[0m\n\u001b[1;32m    189\u001b[0m         \u001b[0mindexer\u001b[0m \u001b[0;34m=\u001b[0m \u001b[0mself\u001b[0m\u001b[0;34m.\u001b[0m\u001b[0m_get_setitem_indexer\u001b[0m\u001b[0;34m(\u001b[0m\u001b[0mkey\u001b[0m\u001b[0;34m)\u001b[0m\u001b[0;34m\u001b[0m\u001b[0m\n\u001b[0;32m--> 190\u001b[0;31m         \u001b[0mself\u001b[0m\u001b[0;34m.\u001b[0m\u001b[0m_setitem_with_indexer\u001b[0m\u001b[0;34m(\u001b[0m\u001b[0mindexer\u001b[0m\u001b[0;34m,\u001b[0m \u001b[0mvalue\u001b[0m\u001b[0;34m)\u001b[0m\u001b[0;34m\u001b[0m\u001b[0m\n\u001b[0m\u001b[1;32m    191\u001b[0m \u001b[0;34m\u001b[0m\u001b[0m\n\u001b[1;32m    192\u001b[0m     \u001b[0;32mdef\u001b[0m \u001b[0m_validate_key\u001b[0m\u001b[0;34m(\u001b[0m\u001b[0mself\u001b[0m\u001b[0;34m,\u001b[0m \u001b[0mkey\u001b[0m\u001b[0;34m,\u001b[0m \u001b[0maxis\u001b[0m\u001b[0;34m)\u001b[0m\u001b[0;34m:\u001b[0m\u001b[0;34m\u001b[0m\u001b[0m\n",
      "\u001b[0;32m/cs/sci/adambeilialpha/.local/lib/python2.7/site-packages/pandas/core/indexing.pyc\u001b[0m in \u001b[0;36m_setitem_with_indexer\u001b[0;34m(self, indexer, value)\u001b[0m\n\u001b[1;32m    587\u001b[0m                 elif ((hasattr(value, 'ndim') and value.ndim == 2)\n\u001b[1;32m    588\u001b[0m                       or (not hasattr(value, 'ndim') and\n\u001b[0;32m--> 589\u001b[0;31m                           np.array(value).ndim) == 2):\n\u001b[0m\u001b[1;32m    590\u001b[0m \u001b[0;34m\u001b[0m\u001b[0m\n\u001b[1;32m    591\u001b[0m                     \u001b[0;31m# note that this coerces the dtype if we are mixed\u001b[0m\u001b[0;34m\u001b[0m\u001b[0;34m\u001b[0m\u001b[0m\n",
      "\u001b[0;31mValueError\u001b[0m: setting an array element with a sequence."
     ]
    }
   ],
   "source": [
    "df.loc[1,['a','nan','tuple1']]=[0.2,2,[[[[tuple([1,2])]]]]]"
   ]
  },
  {
   "cell_type": "code",
   "execution_count": 349,
   "metadata": {},
   "outputs": [
    {
     "ename": "ValueError",
     "evalue": "setting an array element with a sequence.",
     "output_type": "error",
     "traceback": [
      "\u001b[0;31m\u001b[0m",
      "\u001b[0;31mValueError\u001b[0mTraceback (most recent call last)",
      "\u001b[0;32m<ipython-input-349-513fbf2ecf7d>\u001b[0m in \u001b[0;36m<module>\u001b[0;34m()\u001b[0m\n\u001b[1;32m      1\u001b[0m \u001b[0;31m#df.loc[1,['nan','err','tuple1','tuple2','vec']] = kms1\u001b[0m\u001b[0;34m\u001b[0m\u001b[0;34m\u001b[0m\u001b[0m\n\u001b[1;32m      2\u001b[0m \u001b[0mdf\u001b[0m\u001b[0;34m.\u001b[0m\u001b[0mloc\u001b[0m\u001b[0;34m[\u001b[0m\u001b[0;36m1\u001b[0m\u001b[0;34m,\u001b[0m\u001b[0;34m[\u001b[0m\u001b[0;34m'err'\u001b[0m\u001b[0;34m,\u001b[0m\u001b[0;34m'tuple1'\u001b[0m\u001b[0;34m,\u001b[0m\u001b[0;34m'tuple2'\u001b[0m\u001b[0;34m,\u001b[0m\u001b[0;34m'vec'\u001b[0m\u001b[0;34m]\u001b[0m\u001b[0;34m]\u001b[0m \u001b[0;34m=\u001b[0m \u001b[0mkms_test\u001b[0m\u001b[0;34m\u001b[0m\u001b[0m\n\u001b[0;32m----> 3\u001b[0;31m \u001b[0mdf\u001b[0m\u001b[0;34m.\u001b[0m\u001b[0mloc\u001b[0m\u001b[0;34m[\u001b[0m\u001b[0;36m0\u001b[0m\u001b[0;34m,\u001b[0m\u001b[0;34m[\u001b[0m\u001b[0;34m'nan'\u001b[0m\u001b[0;34m,\u001b[0m\u001b[0;34m'tuple1'\u001b[0m\u001b[0;34m,\u001b[0m\u001b[0;34m'tuple2'\u001b[0m\u001b[0;34m,\u001b[0m\u001b[0;34m'vec'\u001b[0m\u001b[0;34m]\u001b[0m\u001b[0;34m]\u001b[0m \u001b[0;34m=\u001b[0m \u001b[0mkms_test2\u001b[0m\u001b[0;34m\u001b[0m\u001b[0m\n\u001b[0m",
      "\u001b[0;32m/cs/sci/adambeilialpha/.local/lib/python2.7/site-packages/pandas/core/indexing.pyc\u001b[0m in \u001b[0;36m__setitem__\u001b[0;34m(self, key, value)\u001b[0m\n\u001b[1;32m    188\u001b[0m             \u001b[0mkey\u001b[0m \u001b[0;34m=\u001b[0m \u001b[0mcom\u001b[0m\u001b[0;34m.\u001b[0m\u001b[0mapply_if_callable\u001b[0m\u001b[0;34m(\u001b[0m\u001b[0mkey\u001b[0m\u001b[0;34m,\u001b[0m \u001b[0mself\u001b[0m\u001b[0;34m.\u001b[0m\u001b[0mobj\u001b[0m\u001b[0;34m)\u001b[0m\u001b[0;34m\u001b[0m\u001b[0m\n\u001b[1;32m    189\u001b[0m         \u001b[0mindexer\u001b[0m \u001b[0;34m=\u001b[0m \u001b[0mself\u001b[0m\u001b[0;34m.\u001b[0m\u001b[0m_get_setitem_indexer\u001b[0m\u001b[0;34m(\u001b[0m\u001b[0mkey\u001b[0m\u001b[0;34m)\u001b[0m\u001b[0;34m\u001b[0m\u001b[0m\n\u001b[0;32m--> 190\u001b[0;31m         \u001b[0mself\u001b[0m\u001b[0;34m.\u001b[0m\u001b[0m_setitem_with_indexer\u001b[0m\u001b[0;34m(\u001b[0m\u001b[0mindexer\u001b[0m\u001b[0;34m,\u001b[0m \u001b[0mvalue\u001b[0m\u001b[0;34m)\u001b[0m\u001b[0;34m\u001b[0m\u001b[0m\n\u001b[0m\u001b[1;32m    191\u001b[0m \u001b[0;34m\u001b[0m\u001b[0m\n\u001b[1;32m    192\u001b[0m     \u001b[0;32mdef\u001b[0m \u001b[0m_validate_key\u001b[0m\u001b[0;34m(\u001b[0m\u001b[0mself\u001b[0m\u001b[0;34m,\u001b[0m \u001b[0mkey\u001b[0m\u001b[0;34m,\u001b[0m \u001b[0maxis\u001b[0m\u001b[0;34m)\u001b[0m\u001b[0;34m:\u001b[0m\u001b[0;34m\u001b[0m\u001b[0m\n",
      "\u001b[0;32m/cs/sci/adambeilialpha/.local/lib/python2.7/site-packages/pandas/core/indexing.pyc\u001b[0m in \u001b[0;36m_setitem_with_indexer\u001b[0;34m(self, indexer, value)\u001b[0m\n\u001b[1;32m    587\u001b[0m                 elif ((hasattr(value, 'ndim') and value.ndim == 2)\n\u001b[1;32m    588\u001b[0m                       or (not hasattr(value, 'ndim') and\n\u001b[0;32m--> 589\u001b[0;31m                           np.array(value).ndim) == 2):\n\u001b[0m\u001b[1;32m    590\u001b[0m \u001b[0;34m\u001b[0m\u001b[0m\n\u001b[1;32m    591\u001b[0m                     \u001b[0;31m# note that this coerces the dtype if we are mixed\u001b[0m\u001b[0;34m\u001b[0m\u001b[0;34m\u001b[0m\u001b[0m\n",
      "\u001b[0;31mValueError\u001b[0m: setting an array element with a sequence."
     ]
    }
   ],
   "source": [
    "#df.loc[1,['nan','err','tuple1','tuple2','vec']] = kms1\n",
    "df.loc[1,['err','tuple1','tuple2','vec']] = kms_test\n",
    "df.loc[0,['nan','tuple1','tuple2','vec']] = kms_test2"
   ]
  },
  {
   "cell_type": "code",
   "execution_count": null,
   "metadata": {},
   "outputs": [],
   "source": [
    "s = df.columns.get_loc\n",
    "df.iloc[1,[s('a'),s('b')]] = [1,2]"
   ]
  },
  {
   "cell_type": "code",
   "execution_count": 212,
   "metadata": {},
   "outputs": [
    {
     "ename": "ValueError",
     "evalue": "setting an array element with a sequence",
     "output_type": "error",
     "traceback": [
      "\u001b[0;31m\u001b[0m",
      "\u001b[0;31mValueError\u001b[0mTraceback (most recent call last)",
      "\u001b[0;32m<ipython-input-212-416a9110ee4f>\u001b[0m in \u001b[0;36m<module>\u001b[0;34m()\u001b[0m\n\u001b[0;32m----> 1\u001b[0;31m \u001b[0msgal_full_thick_shapes\u001b[0m\u001b[0;34m.\u001b[0m\u001b[0mloc\u001b[0m\u001b[0;34m[\u001b[0m\u001b[0mnum\u001b[0m\u001b[0;34m,\u001b[0m\u001b[0;34m[\u001b[0m\u001b[0;34m'stars_p(1kpc)'\u001b[0m\u001b[0;34m,\u001b[0m\u001b[0;34m'stars_q(1kpc)'\u001b[0m\u001b[0;34m,\u001b[0m\u001b[0;34m'stars(1kpc)_errs'\u001b[0m\u001b[0;34m,\u001b[0m\u001b[0;34m'stars(1kpc)_px_start_end'\u001b[0m\u001b[0;34m,\u001b[0m\u001b[0;34m'star_px_err_ratio(1kpc)'\u001b[0m\u001b[0;34m,\u001b[0m\u001b[0;34m'stars(1kpc)_iters'\u001b[0m\u001b[0;34m,\u001b[0m\u001b[0;34m'stars(1kpc)_err_msg'\u001b[0m\u001b[0;34m]\u001b[0m\u001b[0;34m]\u001b[0m \u001b[0;34m=\u001b[0m \u001b[0mstar_vars\u001b[0m\u001b[0;31m#np.array(star_vars)\u001b[0m\u001b[0;34m\u001b[0m\u001b[0m\n\u001b[0m",
      "\u001b[0;32m/cs/sci/adambeilialpha/.local/lib/python2.7/site-packages/pandas/core/indexing.pyc\u001b[0m in \u001b[0;36m__setitem__\u001b[0;34m(self, key, value)\u001b[0m\n\u001b[1;32m    188\u001b[0m             \u001b[0mkey\u001b[0m \u001b[0;34m=\u001b[0m \u001b[0mcom\u001b[0m\u001b[0;34m.\u001b[0m\u001b[0mapply_if_callable\u001b[0m\u001b[0;34m(\u001b[0m\u001b[0mkey\u001b[0m\u001b[0;34m,\u001b[0m \u001b[0mself\u001b[0m\u001b[0;34m.\u001b[0m\u001b[0mobj\u001b[0m\u001b[0;34m)\u001b[0m\u001b[0;34m\u001b[0m\u001b[0m\n\u001b[1;32m    189\u001b[0m         \u001b[0mindexer\u001b[0m \u001b[0;34m=\u001b[0m \u001b[0mself\u001b[0m\u001b[0;34m.\u001b[0m\u001b[0m_get_setitem_indexer\u001b[0m\u001b[0;34m(\u001b[0m\u001b[0mkey\u001b[0m\u001b[0;34m)\u001b[0m\u001b[0;34m\u001b[0m\u001b[0m\n\u001b[0;32m--> 190\u001b[0;31m         \u001b[0mself\u001b[0m\u001b[0;34m.\u001b[0m\u001b[0m_setitem_with_indexer\u001b[0m\u001b[0;34m(\u001b[0m\u001b[0mindexer\u001b[0m\u001b[0;34m,\u001b[0m \u001b[0mvalue\u001b[0m\u001b[0;34m)\u001b[0m\u001b[0;34m\u001b[0m\u001b[0m\n\u001b[0m\u001b[1;32m    191\u001b[0m \u001b[0;34m\u001b[0m\u001b[0m\n\u001b[1;32m    192\u001b[0m     \u001b[0;32mdef\u001b[0m \u001b[0m_validate_key\u001b[0m\u001b[0;34m(\u001b[0m\u001b[0mself\u001b[0m\u001b[0;34m,\u001b[0m \u001b[0mkey\u001b[0m\u001b[0;34m,\u001b[0m \u001b[0maxis\u001b[0m\u001b[0;34m)\u001b[0m\u001b[0;34m:\u001b[0m\u001b[0;34m\u001b[0m\u001b[0m\n",
      "\u001b[0;32m/cs/sci/adambeilialpha/.local/lib/python2.7/site-packages/pandas/core/indexing.pyc\u001b[0m in \u001b[0;36m_setitem_with_indexer\u001b[0;34m(self, indexer, value)\u001b[0m\n\u001b[1;32m    587\u001b[0m                 elif ((hasattr(value, 'ndim') and value.ndim == 2)\n\u001b[1;32m    588\u001b[0m                       or (not hasattr(value, 'ndim') and\n\u001b[0;32m--> 589\u001b[0;31m                           np.array(value).ndim) == 2):\n\u001b[0m\u001b[1;32m    590\u001b[0m \u001b[0;34m\u001b[0m\u001b[0m\n\u001b[1;32m    591\u001b[0m                     \u001b[0;31m# note that this coerces the dtype if we are mixed\u001b[0m\u001b[0;34m\u001b[0m\u001b[0;34m\u001b[0m\u001b[0m\n",
      "\u001b[0;31mValueError\u001b[0m: setting an array element with a sequence"
     ]
    }
   ],
   "source": [
    "sgal_full_thick_shapes.loc[num,['stars_p(1kpc)','stars_q(1kpc)','stars(1kpc)_errs','stars(1kpc)_px_start_end','star_px_err_ratio(1kpc)','stars(1kpc)_iters','stars(1kpc)_err_msg']] = star_vars#np.array(star_vars)"
   ]
  },
  {
   "cell_type": "code",
   "execution_count": 105,
   "metadata": {},
   "outputs": [],
   "source": [
    "sgal_full_thick_shapes.iloc[2502,[s('stars_p(1kpc)')]] = star_vars[0]\n",
    "sgal_full_thick_shapes.iloc[2502,[s('stars_q(1kpc)')]] = star_vars[1]\n",
    "#sgal_full_thick_shapes.iloc[2502,[s('stars_a_vec(1kpc)')]] = star_vars[2]\n",
    "#sgal_full_thick_shapes.iloc[2502,[s('stars_b_vec(1kpc)')]] = star_vars[3]\n",
    "#sgal_full_thick_shapes.iloc[2502,[s('stars_c_vec(1kpc)')]] = star_vars[4]\n",
    "sgal_full_thick_shapes.at[num,'stars_a_vec(1kpc)']= temp_0[0]\n",
    "sgal_full_thick_shapes.at[num,'stars_b_vec(1kpc)'] = temp_0[1]\n",
    "sgal_full_thick_shapes.at[num,'stars_c_vec(1kpc)'] = temp_0[2]\n",
    "sgal_full_thick_shapes.iloc[2502,[s('stars(1kpc)_errs')]] = star_vars[5]\n",
    "sgal_full_thick_shapes.iloc[2502,[s('stars(1kpc)_px_start_end')]] = star_vars[6]\n",
    "sgal_full_thick_shapes.iloc[2502,[s('star_px_err_ratio(1kpc)')]] = star_vars[7]\n",
    "sgal_full_thick_shapes.iloc[2502,[s('stars(1kpc)_iters')]] = star_vars[8]\n",
    "sgal_full_thick_shapes.iloc[2502,[s('stars(1kpc)_err_msg')]] = star_vars[9]"
   ]
  },
  {
   "cell_type": "code",
   "execution_count": 37,
   "metadata": {},
   "outputs": [
    {
     "ename": "TypeError",
     "evalue": "list indices must be integers, not tuple",
     "output_type": "error",
     "traceback": [
      "\u001b[0;31m\u001b[0m",
      "\u001b[0;31mTypeError\u001b[0mTraceback (most recent call last)",
      "\u001b[0;32m<ipython-input-37-eee16d91228f>\u001b[0m in \u001b[0;36m<module>\u001b[0;34m()\u001b[0m\n\u001b[1;32m      1\u001b[0m \u001b[0ma\u001b[0m \u001b[0;34m=\u001b[0m \u001b[0;34m[\u001b[0m\u001b[0;36m1\u001b[0m\u001b[0;34m,\u001b[0m\u001b[0;36m2\u001b[0m\u001b[0;34m,\u001b[0m\u001b[0;36m3\u001b[0m\u001b[0;34m,\u001b[0m\u001b[0;36m4\u001b[0m\u001b[0;34m]\u001b[0m\u001b[0;34m\u001b[0m\u001b[0m\n\u001b[0;32m----> 2\u001b[0;31m \u001b[0ma\u001b[0m\u001b[0;34m[\u001b[0m\u001b[0;36m0\u001b[0m\u001b[0;34m,\u001b[0m\u001b[0;36m1\u001b[0m\u001b[0;34m]\u001b[0m\u001b[0;34m\u001b[0m\u001b[0m\n\u001b[0m",
      "\u001b[0;31mTypeError\u001b[0m: list indices must be integers, not tuple"
     ]
    }
   ],
   "source": [
    "a = [1,2,3,4]\n",
    "a[0,1]"
   ]
  },
  {
   "cell_type": "code",
   "execution_count": 45,
   "metadata": {},
   "outputs": [
    {
     "data": {
      "text/plain": [
       "array([ 0.02407553, -0.98145674, -0.1901658 ])"
      ]
     },
     "execution_count": 45,
     "metadata": {},
     "output_type": "execute_result"
    }
   ],
   "source": [
    "star_vars[3]"
   ]
  },
  {
   "cell_type": "code",
   "execution_count": 49,
   "metadata": {},
   "outputs": [],
   "source": [
    "sgal_full_thick_shapes.loc[num,'stars_b_vec(1kpc)'] = 5"
   ]
  },
  {
   "cell_type": "code",
   "execution_count": 48,
   "metadata": {},
   "outputs": [
    {
     "ename": "ValueError",
     "evalue": "Must have equal len keys and value when setting with an iterable",
     "output_type": "error",
     "traceback": [
      "\u001b[0;31m\u001b[0m",
      "\u001b[0;31mValueError\u001b[0mTraceback (most recent call last)",
      "\u001b[0;32m<ipython-input-48-e9ff4cc5041e>\u001b[0m in \u001b[0;36m<module>\u001b[0;34m()\u001b[0m\n\u001b[1;32m      1\u001b[0m \u001b[0;31m# Its a different error, but this is the first element I try to update that gives an error\u001b[0m\u001b[0;34m\u001b[0m\u001b[0;34m\u001b[0m\u001b[0m\n\u001b[1;32m      2\u001b[0m \u001b[0;31m# (stars_p and stars_q go through without a problem)\u001b[0m\u001b[0;34m\u001b[0m\u001b[0;34m\u001b[0m\u001b[0m\n\u001b[0;32m----> 3\u001b[0;31m \u001b[0msgal_full_thick_shapes\u001b[0m\u001b[0;34m.\u001b[0m\u001b[0mloc\u001b[0m\u001b[0;34m[\u001b[0m\u001b[0mnum\u001b[0m\u001b[0;34m,\u001b[0m\u001b[0;34m(\u001b[0m\u001b[0;34m'stars_b_vec(1kpc)'\u001b[0m\u001b[0;34m)\u001b[0m\u001b[0;34m]\u001b[0m \u001b[0;34m=\u001b[0m \u001b[0mstar_vars\u001b[0m\u001b[0;34m[\u001b[0m\u001b[0;36m3\u001b[0m\u001b[0;34m]\u001b[0m\u001b[0;34m\u001b[0m\u001b[0m\n\u001b[0m",
      "\u001b[0;32m/cs/sci/adambeilialpha/.local/lib/python2.7/site-packages/pandas/core/indexing.pyc\u001b[0m in \u001b[0;36m__setitem__\u001b[0;34m(self, key, value)\u001b[0m\n\u001b[1;32m    188\u001b[0m             \u001b[0mkey\u001b[0m \u001b[0;34m=\u001b[0m \u001b[0mcom\u001b[0m\u001b[0;34m.\u001b[0m\u001b[0mapply_if_callable\u001b[0m\u001b[0;34m(\u001b[0m\u001b[0mkey\u001b[0m\u001b[0;34m,\u001b[0m \u001b[0mself\u001b[0m\u001b[0;34m.\u001b[0m\u001b[0mobj\u001b[0m\u001b[0;34m)\u001b[0m\u001b[0;34m\u001b[0m\u001b[0m\n\u001b[1;32m    189\u001b[0m         \u001b[0mindexer\u001b[0m \u001b[0;34m=\u001b[0m \u001b[0mself\u001b[0m\u001b[0;34m.\u001b[0m\u001b[0m_get_setitem_indexer\u001b[0m\u001b[0;34m(\u001b[0m\u001b[0mkey\u001b[0m\u001b[0;34m)\u001b[0m\u001b[0;34m\u001b[0m\u001b[0m\n\u001b[0;32m--> 190\u001b[0;31m         \u001b[0mself\u001b[0m\u001b[0;34m.\u001b[0m\u001b[0m_setitem_with_indexer\u001b[0m\u001b[0;34m(\u001b[0m\u001b[0mindexer\u001b[0m\u001b[0;34m,\u001b[0m \u001b[0mvalue\u001b[0m\u001b[0;34m)\u001b[0m\u001b[0;34m\u001b[0m\u001b[0m\n\u001b[0m\u001b[1;32m    191\u001b[0m \u001b[0;34m\u001b[0m\u001b[0m\n\u001b[1;32m    192\u001b[0m     \u001b[0;32mdef\u001b[0m \u001b[0m_validate_key\u001b[0m\u001b[0;34m(\u001b[0m\u001b[0mself\u001b[0m\u001b[0;34m,\u001b[0m \u001b[0mkey\u001b[0m\u001b[0;34m,\u001b[0m \u001b[0maxis\u001b[0m\u001b[0;34m)\u001b[0m\u001b[0;34m:\u001b[0m\u001b[0;34m\u001b[0m\u001b[0m\n",
      "\u001b[0;32m/cs/sci/adambeilialpha/.local/lib/python2.7/site-packages/pandas/core/indexing.pyc\u001b[0m in \u001b[0;36m_setitem_with_indexer\u001b[0;34m(self, indexer, value)\u001b[0m\n\u001b[1;32m    609\u001b[0m \u001b[0;34m\u001b[0m\u001b[0m\n\u001b[1;32m    610\u001b[0m                     \u001b[0;32mif\u001b[0m \u001b[0mlen\u001b[0m\u001b[0;34m(\u001b[0m\u001b[0mlabels\u001b[0m\u001b[0;34m)\u001b[0m \u001b[0;34m!=\u001b[0m \u001b[0mlen\u001b[0m\u001b[0;34m(\u001b[0m\u001b[0mvalue\u001b[0m\u001b[0;34m)\u001b[0m\u001b[0;34m:\u001b[0m\u001b[0;34m\u001b[0m\u001b[0m\n\u001b[0;32m--> 611\u001b[0;31m                         raise ValueError('Must have equal len keys and value '\n\u001b[0m\u001b[1;32m    612\u001b[0m                                          'when setting with an iterable')\n\u001b[1;32m    613\u001b[0m \u001b[0;34m\u001b[0m\u001b[0m\n",
      "\u001b[0;31mValueError\u001b[0m: Must have equal len keys and value when setting with an iterable"
     ]
    }
   ],
   "source": [
    "# Its a different error, but this is the first element I try to update that gives an error \n",
    "# (stars_p and stars_q go through without a problem)\n",
    "sgal_full_thick_shapes.loc[num,('stars_b_vec(1kpc)')] = star_vars[3]"
   ]
  },
  {
   "cell_type": "code",
   "execution_count": null,
   "metadata": {},
   "outputs": [],
   "source": [
    "# If you look in ShapeTensor.py, copmute_shape_iter() is the main function that returns these variables\n",
    "# On lines 155,165,175"
   ]
  },
  {
   "cell_type": "code",
   "execution_count": 22,
   "metadata": {},
   "outputs": [
    {
     "data": {
      "text/plain": [
       "u'0.24.2'"
      ]
     },
     "execution_count": 22,
     "metadata": {},
     "output_type": "execute_result"
    }
   ],
   "source": [
    "pd.__version__"
   ]
  },
  {
   "cell_type": "code",
   "execution_count": null,
   "metadata": {},
   "outputs": [],
   "source": []
  },
  {
   "cell_type": "code",
   "execution_count": null,
   "metadata": {},
   "outputs": [],
   "source": []
  },
  {
   "cell_type": "code",
   "execution_count": null,
   "metadata": {},
   "outputs": [],
   "source": []
  },
  {
   "cell_type": "markdown",
   "metadata": {},
   "source": [
    "# Ignore from here"
   ]
  },
  {
   "cell_type": "code",
   "execution_count": null,
   "metadata": {},
   "outputs": [],
   "source": [
    "sgal_cat_s = sgal_full_thick_shapes.iloc[2501]\n",
    "ds = yt.load(sim_cat.loc[sgal_cat_s['sim_id']]['sim_path'].replace('from_nas2','Users'))\n",
    "st.ds=ds\n",
    "sp,center=st.get_sp_sgal(sgal_cat_s)"
   ]
  },
  {
   "cell_type": "code",
   "execution_count": null,
   "metadata": {},
   "outputs": [],
   "source": [
    "starm=sp1[('stars', 'particle_mass')].in_units('Msun').v\n",
    "\n",
    "stars_age = [sp1[('stars','particle_creation_time')].in_units('Myr').v<=100]"
   ]
  },
  {
   "cell_type": "code",
   "execution_count": null,
   "metadata": {},
   "outputs": [],
   "source": [
    "def selection_sort(x):\n",
    "    for i in range(len(x)):\n",
    "        swap = i + np.argmin(x[i:])\n",
    "        (x[i], x[swap]) = (x[swap], x[i])\n",
    "    return x"
   ]
  },
  {
   "cell_type": "code",
   "execution_count": null,
   "metadata": {},
   "outputs": [],
   "source": [
    "selection_sort(np.array(sp1[('stars','particle_creation_time')].in_units('Myr').v))"
   ]
  },
  {
   "cell_type": "code",
   "execution_count": null,
   "metadata": {},
   "outputs": [],
   "source": [
    "youngstarm = starm[stars_age]    \n"
   ]
  },
  {
   "cell_type": "code",
   "execution_count": null,
   "metadata": {},
   "outputs": [],
   "source": [
    "len(youngstarm),len(starm)"
   ]
  },
  {
   "cell_type": "code",
   "execution_count": null,
   "metadata": {},
   "outputs": [],
   "source": [
    "ds.derived_field_list"
   ]
  },
  {
   "cell_type": "code",
   "execution_count": null,
   "metadata": {},
   "outputs": [],
   "source": [
    "sgal_full_thick_shapes.t"
   ]
  },
  {
   "cell_type": "code",
   "execution_count": null,
   "metadata": {},
   "outputs": [],
   "source": []
  },
  {
   "cell_type": "code",
   "execution_count": null,
   "metadata": {},
   "outputs": [],
   "source": [
    "sgal_R_df   = pd.read_pickle(path + r'/sgal_R_thick_table.pkl')"
   ]
  },
  {
   "cell_type": "code",
   "execution_count": null,
   "metadata": {},
   "outputs": [],
   "source": [
    "def dm_rad_calculator():\n",
    "    i=0\n",
    "    for index, row in sgal_R_df.iterrows():\n",
    "#        sgal_lines = sgal_R_df.loc[[index]]\n",
    "        print index\n",
    "        sgal = sgal_R_df.loc[index]\n",
    "        st.ds = yt.load(sim_cat.loc[sgal['sim_id']]['sim_path'].replace('from_nas2','Users'))\n",
    "        r_der,r_1min,r_dm,r_dm_half = st.return_rad(sgal)\n",
    "\n",
    "        \n",
    "        \n",
    "        print r_der,r_1min,r_dm,r_dm_half,type(r_dm)\n",
    "        i+=1\n",
    "        if i==5:\n",
    "            break\n",
    "        "
   ]
  },
  {
   "cell_type": "code",
   "execution_count": null,
   "metadata": {},
   "outputs": [],
   "source": [
    "%%time\n",
    "dm_rad_calculator()\n"
   ]
  },
  {
   "cell_type": "code",
   "execution_count": null,
   "metadata": {},
   "outputs": [],
   "source": []
  },
  {
   "cell_type": "markdown",
   "metadata": {},
   "source": [
    "# What is the problem with Youngstars?"
   ]
  },
  {
   "cell_type": "code",
   "execution_count": null,
   "metadata": {},
   "outputs": [],
   "source": [
    "sgal_cat_s = sgal_full_thick_shapes.iloc[0]\n",
    "ds = yt.load(sim_cat.loc[sgal_cat_s['sim_id']]['sim_path'].replace('from_nas2','Users'))"
   ]
  },
  {
   "cell_type": "code",
   "execution_count": null,
   "metadata": {},
   "outputs": [],
   "source": [
    "sgal"
   ]
  },
  {
   "cell_type": "code",
   "execution_count": null,
   "metadata": {},
   "outputs": [],
   "source": [
    "mat_arr,mass_arr=st.imp_data(sgal_cat_s)"
   ]
  },
  {
   "cell_type": "code",
   "execution_count": null,
   "metadata": {},
   "outputs": [],
   "source": [
    "def imp_data(sgal_cat_s,central=False):\n",
    "    if central==False:\n",
    "        sp,center=st.get_sp_sgal(sgal_cat_s)\n",
    "    else:\n",
    "        sp,vel,center=get_sp_cgal(sgal_cat_s)\n",
    "    print(\"Importing star data\")\n",
    "    starpx=sp[('stars', 'particle_position_x')].in_units('kpc')-center[0]\n",
    "    starpy=sp[('stars', 'particle_position_y')].in_units('kpc')-center[1]\n",
    "    starpz=sp[('stars', 'particle_position_z')].in_units('kpc')-center[2]\n",
    "    #defining the objects that go in the compute_shape_iter function\n",
    "    mat_star=np.transpose((starpx.v,starpy.v,starpz.v))\n",
    "    starm=sp[('stars', 'particle_mass')].in_units('Msun').v\n",
    "\n",
    "    print(\"Importing dark matter data\")\n",
    "    darkpx=sp[('darkmatter', 'particle_position_x')].in_units('kpc')-center[0]\n",
    "    darkpy=sp[('darkmatter', 'particle_position_y')].in_units('kpc')-center[1]\n",
    "    darkpz=sp[('darkmatter', 'particle_position_z')].in_units('kpc')-center[2]\n",
    "    mat_dark=np.transpose((darkpx.v,darkpy.v,darkpz.v))\n",
    "    darkm=sp[('darkmatter', 'particle_mass')].in_units('Msun').v\n",
    "\n",
    "    print(\"Importing gas data\")\n",
    "    gaspx=sp[('index', 'x')].in_units('kpc')-center[0]\n",
    "    gaspy=sp[('index', 'y')].in_units('kpc')-center[1]\n",
    "    gaspz=sp[('index', 'z')].in_units('kpc')-center[2]\n",
    "    mat_gas=np.transpose((gaspx.v,gaspy.v,gaspz.v))\n",
    "    gasd=sp[('gas', 'density')].in_units('Msun/kpc**3')\n",
    "    vol=sp[('index', 'cell_volume')].in_units('kpc**3')\n",
    "    gasm=np.array(gasd*vol)\n",
    "    \n",
    "    print('Importing Youngstar data')   \n",
    "    stars_age = [sp[('stars','particle_age')].in_units('Myr').v <= 100]\n",
    "    youngstarm = starm[stars_age]    \n",
    "    youngstarpx=starpx[stars_age]\n",
    "    youngstarpy=starpy[stars_age]\n",
    "    youngstarpz=starpz[stars_age]\n",
    "    mat_youngstar=np.transpose((youngstarpx.v,youngstarpy.v,youngstarpz.v))\n",
    "    \n",
    "    print(\"Importing Coldgas data\")\n",
    "    cold_mask = [sp[('gas', 'temperature')].in_units('K').v <= 1.5*10**4]\n",
    "    coldgaspx = gaspx[cold_mask]\n",
    "    coldgaspy = gaspy[cold_mask]\n",
    "    coldgaspz = gaspz[cold_mask]\n",
    "    mat_coldgas=np.transpose((coldgaspx.v,coldgaspy.v,coldgaspz.v))\n",
    "    coldgasm = gasm[cold_mask]\n",
    "    \n",
    "    print(\"Importing total matter data\")\n",
    "    allpx=np.concatenate((starpx, darkpx, gaspx))\n",
    "    allpy=np.concatenate((starpy, darkpy, gaspy))\n",
    "    allpz=np.concatenate((starpz, darkpz, gaspz))\n",
    "    mat_tot=np.transpose((allpx.v,allpy.v,allpz.v))\n",
    "    totm=np.concatenate((starm, darkm, gasm))\n",
    "\n",
    "    mat_arr = [mat_star,mat_dark,mat_gas,mat_youngstar,mat_coldgas,mat_tot]\n",
    "    mass_arr = [starm,darkm,gasm,youngstarm,coldgasm,totm]\n",
    "        \n",
    "    return mat_arr,mass_arr"
   ]
  },
  {
   "cell_type": "code",
   "execution_count": null,
   "metadata": {},
   "outputs": [],
   "source": [
    "sp,center=st.get_sp_sgal(sgal_cat_s)\n",
    "#stars_age = [sp[('stars','particle_age')].in_units('Myr').v <= 100]\n",
    "cold_mask = [sp[('gas', 'temperature')].in_units('K').v <= 1.5*10**4]\n"
   ]
  },
  {
   "cell_type": "code",
   "execution_count": null,
   "metadata": {},
   "outputs": [],
   "source": []
  }
 ],
 "metadata": {
  "kernelspec": {
   "display_name": "Python 2",
   "language": "python",
   "name": "python2"
  },
  "language_info": {
   "codemirror_mode": {
    "name": "ipython",
    "version": 2
   },
   "file_extension": ".py",
   "mimetype": "text/x-python",
   "name": "python",
   "nbconvert_exporter": "python",
   "pygments_lexer": "ipython2",
   "version": "2.7.13"
  }
 },
 "nbformat": 4,
 "nbformat_minor": 2
}
