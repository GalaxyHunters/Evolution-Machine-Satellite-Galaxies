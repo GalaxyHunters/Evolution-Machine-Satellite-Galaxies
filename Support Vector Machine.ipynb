{
 "cells": [
  {
   "cell_type": "code",
   "execution_count": 2,
   "metadata": {},
   "outputs": [],
   "source": [
    "import pandas as pd\n",
    "import numpy as np\n",
    "import sklearn as sk\n",
    "import pickle\n",
    "import matplotlib.pyplot as plt\n",
    "from sklearn.ensemble import RandomForestClassifier\n",
    "from sklearn import svm\n",
    "from sklearn.model_selection import train_test_split\n",
    "from sklearn import metrics\n",
    "from sklearn.model_selection import cross_val_predict\n",
    "from sklearn.decomposition import PCA\n",
    "import pylab as pl\n",
    "import seaborn as sns\n",
    "\n",
    "from MiscFuncs import df_stats\n",
    "%matplotlib inline\n",
    "pd.options.mode.chained_assignment = None\n",
    "pd.set_option('display.max_columns',None)\n",
    "pd.set_option('display.max_rows', None)"
   ]
  },
  {
   "cell_type": "code",
   "execution_count": 872,
   "metadata": {},
   "outputs": [],
   "source": [
    "path_x = r'/Users/Adamin/Documents/Alpha/notebooks'\n",
    "path = r'/vol/sci/astro/bigdata/tussbaum/halofinder/catalog/'\n",
    "path_1 = r'/vol/sci/astro/home/adambeilialpha/'\n",
    "sgal_qlabel_0 = pd.read_pickle(path_1 + r'/sgal_qlabel_0.pkl')\n",
    "sgal_qlabel_1 = pd.read_pickle(path_1 + r'/sgal_qlabel_1.pkl')\n",
    "sgal_qlabel_2 = pd.read_pickle(path_1 + r'/sgal_qlabel_2.pkl')\n",
    "sgal_qlabel_3 = pd.read_pickle(path_1 + r'/sgal_qlabel_3.pkl')\n",
    "sgal_qlabel_4 = pd.read_pickle(path_1 + r'/sgal_qlabel_4.pkl')\n",
    "sgal_qlabel_118_596 = pd.read_pickle(path_1 + r'/sgal_qlabel.pkl')\n",
    "\n",
    "sgal_qlabel_all = pd.concat([sgal_qlabel_0, sgal_qlabel_1,sgal_qlabel_2, sgal_qlabel_3,sgal_qlabel_4], axis=1)\n",
    "sgal_forces = pd.DataFrame(index=sgal_qlabel_0.index,data={'qlabel':sgal_qlabel_0['qlabel']})\n",
    "sgal_forces[['Fgrav','Pgrav','Ptidal','gas_phase_metallicity(disc)[log(O/H)+12]']]=sgal_qlabel_118_596[['Fgrav','Pgrav','Ptidal','gas_phase_metallicity(disc)[log(O/H)+12]']]\n",
    "#sgal_features = pd.concat([sgal_qlabel_0, sgal_qlabel_1], axis=1)\n",
    "#sgal_ML_features = pd.read_pickle(path_x + r'/sgal_ML_features.pkl')\n",
    "#sgal_ML_features = pd.read_pickle(path_1 + r'/sgal_5_features_exp.pkl')\n",
    "sgal_ML_features = pd.read_pickle(path_1 + r'/sgal_5_features.pkl')"
   ]
  },
  {
   "cell_type": "code",
   "execution_count": 5,
   "metadata": {},
   "outputs": [],
   "source": [
    "# 5 Features found by RandomForest, don't get good enough results here."
   ]
  },
  {
   "cell_type": "code",
   "execution_count": 1101,
   "metadata": {},
   "outputs": [
    {
     "name": "stdout",
     "output_type": "stream",
     "text": [
      "('# Rows: ', 80, '# Columns: ', 6, array(['qlabel', 'gas_c_vec*stars_AM(0.9coldgas)',\n",
      "       'Eccentricity(Rperi_1,Rapo_1)', 'Msat/Mrvir', 'Rsat[kpc]',\n",
      "       'EllipsArea_stars(Rsat)_rvir_Vorbit'], dtype=object))\n"
     ]
    }
   ],
   "source": [
    "sgal_SVM_features = pd.DataFrame(index=sgal_qlabel_all.index,data=sgal_qlabel_all[['qlabel','gas_c_vec*stars_AM(0.9coldgas)','Eccentricity(Rperi_1,Rapo_1)']])\n",
    "#a=sgal_SVM_features['qlabel']==1; sgal_SVM_features['qlabel'][a]=0\n",
    "sgal_SVM_features = sgal_SVM_features.loc[sgal_SVM_features['qlabel']!=0]\n",
    "sgal_SVM_features = sgal_SVM_features.loc[sgal_SVM_features['qlabel']!=3]\n",
    "sgal_SVM_features['Msat/Mrvir']=np.log10(sgal_qlabel_all['Msat/Mrvir'].astype(float))\n",
    "sgal_SVM_features['Rsat[kpc]']=np.log10(sgal_qlabel_all['Rsat[kpc]'].astype(float))\n",
    "sgal_SVM_features['EllipsArea_stars(Rsat)_rvir_Vorbit']=np.log10(sgal_ML_features['EllipsArea_stars(Rsat)_rvir_Vorbit'].fillna(1.0).astype(float))\n",
    "#sgal_SVM_features = sgal_SVM_features.fillna(0.0)\n",
    "sgal_SVM_features = sgal_SVM_features.replace([np.inf, -np.inf], np.nan).dropna()\n",
    "df_stats(sgal_SVM_features)\n",
    "labels = np.array(sgal_SVM_features.pop('qlabel'))\n"
   ]
  },
  {
   "cell_type": "code",
   "execution_count": null,
   "metadata": {},
   "outputs": [],
   "source": [
    "# Features found by KDEPlots\n",
    "# Looked for different combinations, still haven't found one thats perfect each time."
   ]
  },
  {
   "cell_type": "code",
   "execution_count": 1190,
   "metadata": {
    "scrolled": true
   },
   "outputs": [
    {
     "name": "stdout",
     "output_type": "stream",
     "text": [
      "('# Rows: ', 80, '# Columns: ', 6, array(['qlabel', 'Mstar(Rsat)[Msun]', 'C(Rsat/Reff)', 'cen_gas_q(10kpc)',\n",
      "       'stars_q(Rsat)', 'Msat/M_rvir[Msun]'], dtype=object))\n"
     ]
    }
   ],
   "source": [
    "sgal_SVM_features = pd.DataFrame(index=sgal_qlabel_0.index,data=sgal_qlabel_0[['qlabel']])\n",
    "sgal_SVM_features = sgal_SVM_features.loc[sgal_SVM_features['qlabel']!=0]\n",
    "sgal_SVM_features = sgal_SVM_features.loc[sgal_SVM_features['qlabel']!=3]\n",
    "\n",
    "#a=sgal_SVM_features['qlabel']==3; sgal_SVM_features['qlabel'][a]=1\n",
    "#b=sgal_qlabel_2['Rcoldgass_0.9[kpc]']==0.; sgal_qlabel_2['Rcoldgass_0.9[kpc]'][b]=1.0\n",
    "zero_mask=sgal_qlabel_all['ssfr(Rsat)[1/yr]']==0.; sgal_qlabel_all['ssfr(Rsat)[1/yr]'][zero_mask]=1.0\n",
    "#a=sgal_qlabel_1['']==0.; sgal_qlabel_1[''][a]=1.0\n",
    "zero_mask=sgal_forces['Ptidal']==0.; sgal_forces['Ptidal'][zero_mask]=1.0\n",
    "zero_mask=sgal_qlabel_all['center_Mstar(0.1rvir)[Msun]']==0.; sgal_qlabel_all['center_Mstar(0.1rvir)[Msun]'][zero_mask]=1.0\n",
    "\n",
    "#sgal_SVM_features['']=np.log10([''].fillna(1.0).astype(float))\n",
    "#sgal_SVM_features['density(R0.5kpc)[Msun/kpc^3]']=np.log10(sgal_qlabel_all['density(R0.5kpc)[Msun/kpc^3]'].fillna(1.0).astype(float))\n",
    "\n",
    "#sgal_SVM_features['Eccentricity(Rperi_1,Rapo_1)']=sgal_qlabel_0['Eccentricity(Rperi_1,Rapo_1)']\n",
    "sgal_SVM_features['Mstar(Rsat)[Msun]']=np.log10(sgal_qlabel_0['Mstar(Rsat)[Msun]'].fillna(1.0).astype(float))\n",
    "#sgal_SVM_features['alpha_slope']=sgal_qlabel_2['alpha_slope']\n",
    "#sgal_SVM_features['gas_q(0.5kpc)']=sgal_qlabel_all['gas_q(0.5kpc)']\n",
    "sgal_SVM_features['C(Rsat/Reff)']=sgal_qlabel_all['c(Rsat/Reff)']\n",
    "#sgal_SVM_features['stars_AM*Vorbit(0.9coldgas)']=sgal_qlabel_all['stars_AM*Vorbit(0.9coldgas)']\n",
    "#sgal_SVM_features['ssfr(Rsat)[1/yr]']=np.log10(sgal_qlabel_1['ssfr(Rsat)[1/yr]'].fillna(0.1).astype(float))\n",
    "#sgal_SVM_features['Rcoldgas_0.9[kpc]']=np.log10(sgal_qlabel_2['Rcoldgass_0.9[kpc]'].fillna(1.0).astype(float))\n",
    "#sgal_SVM_features['EllipsArea_stars(Rsat)_rvir']=np.log10(sgal_qlabel_1['EllipsArea_stars(Rsat)_rvir'].fillna(1.0).astype(float))\n",
    "#sgal_SVM_features['EllipsDepth_gas(0.5kpc)_peri_Vorbit']=sgal_qlabel_all['EllipsDepth_gas(0.5kpc)_peri_Vorbit']\n",
    "#sgal_SVM_features['EllipsArea_stars(Rsat)_rvir_Vorbit']=np.log10(sgal_ML_features['EllipsArea_stars(Rsat)_rvir_Vorbit'].fillna(1.0).astype(float))\n",
    "#sgal_SVM_features['Pgrav']=np.log10(sgal_forces['Pgrav'].fillna(1.0).astype(float))\n",
    "#sgal_SVM_features['Ptidal']=np.log10(sgal_forces['Ptidal'].fillna(1.0).astype(float))\n",
    "sgal_SVM_features['cen_gas_q(10kpc)'] = sgal_qlabel_all['cen_gas_q(10kpc)']\n",
    "sgal_SVM_features['stars_q(Rsat)']=sgal_qlabel_all['stars_q(Rsat)']\n",
    "sgal_SVM_features['Msat/M_rvir[Msun]']=np.log10(sgal_qlabel_all['Msat/Mrvir'].fillna(1.0).astype(float))\n",
    "#sgal_SVM_features['gas_phase_metallicity(disc)[log(O/H)+12]'] = sgal_forces['gas_phase_metallicity(disc)[log(O/H)+12]']\n",
    "#sgal_SVM_features['zana_r']=    np.log10(sgal_qlabel_all['zana_r'].fillna(1.0).astype(float))\n",
    "#sgal_SVM_features['center_Mstar(0.1rvir)[Msun]']=np.log10(sgal_qlabel_all['center_Mstar(0.1rvir)[Msun]'].fillna(1.0).astype(float))\n",
    "sgal_SVM_features = sgal_SVM_features.fillna(0.0)\n",
    "sgal_SVM_features = sgal_SVM_features.replace([np.inf, -np.inf], np.nan).dropna()\n",
    "df_stats(sgal_SVM_features)\n",
    "labels = np.array(sgal_SVM_features.pop('qlabel'))\n"
   ]
  },
  {
   "cell_type": "code",
   "execution_count": 1191,
   "metadata": {},
   "outputs": [
    {
     "data": {
      "text/html": [
       "<div>\n",
       "<style scoped>\n",
       "    .dataframe tbody tr th:only-of-type {\n",
       "        vertical-align: middle;\n",
       "    }\n",
       "\n",
       "    .dataframe tbody tr th {\n",
       "        vertical-align: top;\n",
       "    }\n",
       "\n",
       "    .dataframe thead th {\n",
       "        text-align: right;\n",
       "    }\n",
       "</style>\n",
       "<table border=\"1\" class=\"dataframe\">\n",
       "  <thead>\n",
       "    <tr style=\"text-align: right;\">\n",
       "      <th></th>\n",
       "      <th>Mstar(Rsat)[Msun]</th>\n",
       "      <th>C(Rsat/Reff)</th>\n",
       "      <th>cen_gas_q(10kpc)</th>\n",
       "      <th>stars_q(Rsat)</th>\n",
       "      <th>Msat/M_rvir[Msun]</th>\n",
       "    </tr>\n",
       "    <tr>\n",
       "      <th>tgid</th>\n",
       "      <th></th>\n",
       "      <th></th>\n",
       "      <th></th>\n",
       "      <th></th>\n",
       "      <th></th>\n",
       "    </tr>\n",
       "  </thead>\n",
       "  <tbody>\n",
       "    <tr>\n",
       "      <th>VELA_v2.Thick.01_tmp_00003</th>\n",
       "      <td>8.122182</td>\n",
       "      <td>2.449223</td>\n",
       "      <td>0.950103</td>\n",
       "      <td>0.743665</td>\n",
       "      <td>-2.272397</td>\n",
       "    </tr>\n",
       "    <tr>\n",
       "      <th>VELA_v2.Thick.01_tmp_00013</th>\n",
       "      <td>7.253018</td>\n",
       "      <td>2.607285</td>\n",
       "      <td>0.635015</td>\n",
       "      <td>0.843557</td>\n",
       "      <td>-2.629598</td>\n",
       "    </tr>\n",
       "    <tr>\n",
       "      <th>VELA_v2.Thick.02_tmp_00001</th>\n",
       "      <td>7.081547</td>\n",
       "      <td>2.083540</td>\n",
       "      <td>0.685366</td>\n",
       "      <td>0.927546</td>\n",
       "      <td>-2.727032</td>\n",
       "    </tr>\n",
       "    <tr>\n",
       "      <th>VELA_v2.Thick.02_tmp_00004</th>\n",
       "      <td>7.950228</td>\n",
       "      <td>2.161516</td>\n",
       "      <td>0.823391</td>\n",
       "      <td>0.860002</td>\n",
       "      <td>-2.265169</td>\n",
       "    </tr>\n",
       "    <tr>\n",
       "      <th>VELA_v2.Thick.03_tmp_00009</th>\n",
       "      <td>8.833753</td>\n",
       "      <td>3.234012</td>\n",
       "      <td>0.187197</td>\n",
       "      <td>0.952181</td>\n",
       "      <td>-1.689824</td>\n",
       "    </tr>\n",
       "  </tbody>\n",
       "</table>\n",
       "</div>"
      ],
      "text/plain": [
       "                            Mstar(Rsat)[Msun]  C(Rsat/Reff)  cen_gas_q(10kpc)  \\\n",
       "tgid                                                                            \n",
       "VELA_v2.Thick.01_tmp_00003           8.122182      2.449223          0.950103   \n",
       "VELA_v2.Thick.01_tmp_00013           7.253018      2.607285          0.635015   \n",
       "VELA_v2.Thick.02_tmp_00001           7.081547      2.083540          0.685366   \n",
       "VELA_v2.Thick.02_tmp_00004           7.950228      2.161516          0.823391   \n",
       "VELA_v2.Thick.03_tmp_00009           8.833753      3.234012          0.187197   \n",
       "\n",
       "                            stars_q(Rsat)  Msat/M_rvir[Msun]  \n",
       "tgid                                                          \n",
       "VELA_v2.Thick.01_tmp_00003       0.743665          -2.272397  \n",
       "VELA_v2.Thick.01_tmp_00013       0.843557          -2.629598  \n",
       "VELA_v2.Thick.02_tmp_00001       0.927546          -2.727032  \n",
       "VELA_v2.Thick.02_tmp_00004       0.860002          -2.265169  \n",
       "VELA_v2.Thick.03_tmp_00009       0.952181          -1.689824  "
      ]
     },
     "execution_count": 1191,
     "metadata": {},
     "output_type": "execute_result"
    }
   ],
   "source": [
    "sgal_SVM_features.head()"
   ]
  },
  {
   "cell_type": "code",
   "execution_count": 1192,
   "metadata": {},
   "outputs": [],
   "source": [
    "# SVM_Classification:\n",
    "# When it starts working better and we decide on final params I'll clean it up."
   ]
  },
  {
   "cell_type": "code",
   "execution_count": 1215,
   "metadata": {},
   "outputs": [],
   "source": [
    "def SVM_Classification():\n",
    "    '''\n",
    "    calculate multi-class classification and return related evaluation metrics\n",
    "    '''\n",
    "    num = np.random.randint(50)\n",
    "    X_train, X_test, y_train, y_test = train_test_split(sgal_SVM_features.reset_index().drop(['tgid'],axis=1),\n",
    "                                         labels, \n",
    "                                         stratify = labels,\n",
    "                                         test_size = 0.2, \n",
    "                                         random_state = num)\n",
    "    \n",
    "    #svc = svm.SVC(C=3, kernel='linear',gamma='auto')\n",
    "    #svc = svm.SVC(C=66, kernel='poly',degree=2)\n",
    "    svc = svm.SVC(C=1,kernel='poly',degree=3,gamma='scale',probability=True,class_weight='balanced')\n",
    "\n",
    "    clf = svc.fit(X_train, y_train) #svm\n",
    "    y_pred = svc.predict(X_test)\n",
    "    # array = svc.coef_\n",
    "    # print(array\n",
    "    print('Actual Feature Set')\n",
    "    print(metrics.confusion_matrix(y_test,y_pred))\n",
    "    print(metrics.classification_report(y_test,y_pred)),'\\n'\n",
    "    \n",
    "    pca = PCA(n_components=2).fit(X_train)\n",
    "    pca_2d = pca.transform(X_train)\n",
    "    pca2 = PCA(n_components=2).fit(X_test)\n",
    "    pca2_2d = pca.transform(X_test)\n",
    "   \n",
    "    #svmClassifier_2d =   svm.SVC(C=5,kernel='linear').fit(pca_2d, y_train)\n",
    "    #svmClassifier_2d =   svm.SVC(C=66,kernel='sigmoid').fit(pca_2d, y_train)\n",
    "    svmClassifier_2d =   svm.SVC(C=1,kernel='poly',degree=3,gamma='auto',probability=True,class_weight='balanced',shrinking=False).fit(pca_2d, y_train)\n",
    "\n",
    "    y_pred_2 = svmClassifier_2d.predict(pca2_2d)\n",
    "    print('Decomposed 2d Feature Set')\n",
    "    print(metrics.confusion_matrix(y_test,y_pred_2))\n",
    "    print(metrics.classification_report(y_test,y_pred_2))\n",
    "    for i in range(0, pca_2d.shape[0]):\n",
    "        if y_train[i] == 3:\n",
    "            c1 = pl.scatter(pca_2d[i,0],pca_2d[i,1],c='g',    s=30,marker='^')\n",
    "        elif y_train[i] == 1:\n",
    "            c2 = pl.scatter(pca_2d[i,0],pca_2d[i,1],c='r',    s=30,marker='o')\n",
    "        elif y_train[i] == 4:\n",
    "            c3 = pl.scatter(pca_2d[i,0],pca_2d[i,1],c='b',    s=30,marker='*')\n",
    "        elif y_train[i] == 0:\n",
    "            c4 = pl.scatter(pca_2d[i,0],pca_2d[i,1],c='y',    s=30,marker='^')\n",
    "    pl.legend([c2, c3], ['Quenched', 'Survived'])\n",
    "    #pl.legend([c1, c2,c3], ['Q3', 'Quenched','Survived'])\n",
    "    #pl.legend([c1, c2,c3,c4], ['Q3', 'Quenched','Survived','Dead'])\n",
    "    x_min, x_max = pca_2d[:, 0].min() - 1,   pca_2d[:,0].max() + 1\n",
    "    y_min, y_max = pca_2d[:, 1].min() - 1,   pca_2d[:, 1].max() + 1\n",
    "    xx, yy = np.meshgrid(np.arange(x_min, x_max, .01),   np.arange(y_min, y_max, .01))\n",
    "    Z = svmClassifier_2d.predict(np.c_[xx.ravel(),  yy.ravel()])\n",
    "    Z = Z.reshape(xx.shape)\n",
    "    pl.contour(xx, yy, Z)\n",
    "    pl.title('SVM Decision Surface')\n",
    "    #pl.axis('off')\n",
    "    pl.show()\n",
    "    print(num)\n",
    "    "
   ]
  },
  {
   "cell_type": "code",
   "execution_count": 1232,
   "metadata": {
    "scrolled": false
   },
   "outputs": [
    {
     "name": "stdout",
     "output_type": "stream",
     "text": [
      "Actual Feature Set\n",
      "[[12  1]\n",
      " [ 0  3]]\n",
      "              precision    recall  f1-score   support\n",
      "\n",
      "         1.0       1.00      0.92      0.96        13\n",
      "         4.0       0.75      1.00      0.86         3\n",
      "\n",
      "   micro avg       0.94      0.94      0.94        16\n",
      "   macro avg       0.88      0.96      0.91        16\n",
      "weighted avg       0.95      0.94      0.94        16\n",
      "\n",
      "\n",
      "Decomposed 2d Feature Set\n",
      "[[12  1]\n",
      " [ 0  3]]\n",
      "              precision    recall  f1-score   support\n",
      "\n",
      "         1.0       1.00      0.92      0.96        13\n",
      "         4.0       0.75      1.00      0.86         3\n",
      "\n",
      "   micro avg       0.94      0.94      0.94        16\n",
      "   macro avg       0.88      0.96      0.91        16\n",
      "weighted avg       0.95      0.94      0.94        16\n",
      "\n"
     ]
    },
    {
     "data": {
      "image/png": "[encoded data removed]",
      "text/plain": [
       "<Figure size 432x288 with 1 Axes>"
      ]
     },
     "metadata": {
      "needs_background": "light"
     },
     "output_type": "display_data"
    },
    {
     "name": "stdout",
     "output_type": "stream",
     "text": [
      "1\n"
     ]
    }
   ],
   "source": [
    "# Example Run\n",
    "SVM_Classification()"
   ]
  },
  {
   "cell_type": "code",
   "execution_count": null,
   "metadata": {},
   "outputs": [],
   "source": []
  },
  {
   "cell_type": "code",
   "execution_count": 552,
   "metadata": {
    "scrolled": false
   },
   "outputs": [
    {
     "name": "stdout",
     "output_type": "stream",
     "text": [
      "[[14  4]\n",
      " [ 0  4]]\n",
      "              precision    recall  f1-score   support\n",
      "\n",
      "         1.0       1.00      0.78      0.88        18\n",
      "         4.0       0.50      1.00      0.67         4\n",
      "\n",
      "   micro avg       0.82      0.82      0.82        22\n",
      "   macro avg       0.75      0.89      0.77        22\n",
      "weighted avg       0.91      0.82      0.84        22\n",
      "\n",
      "\n",
      "[[14  4]\n",
      " [ 0  4]]\n",
      "              precision    recall  f1-score   support\n",
      "\n",
      "         1.0       1.00      0.78      0.88        18\n",
      "         4.0       0.50      1.00      0.67         4\n",
      "\n",
      "   micro avg       0.82      0.82      0.82        22\n",
      "   macro avg       0.75      0.89      0.77        22\n",
      "weighted avg       0.91      0.82      0.84        22\n",
      "\n"
     ]
    },
    {
     "data": {
      "image/png": "[encoded data removed]",
      "text/plain": [
       "<Figure size 432x288 with 1 Axes>"
      ]
     },
     "metadata": {
      "needs_background": "light"
     },
     "output_type": "display_data"
    },
    {
     "name": "stdout",
     "output_type": "stream",
     "text": [
      "30\n"
     ]
    }
   ],
   "source": [
    "#Dont touch \n",
    "#('# Rows: ', 80, '# Columns: ', 6, array(['qlabel', 'Eccentricity(Rperi_1,Rapo_1)', 'Mstar(Rsat)[Msun]',\n",
    "#       'gas_q(0.5kpc)', 'cen_gas_q(10kpc)', 'stars_q(Rsat)'], dtype=object))\n",
    "SVM_Classification()"
   ]
  },
  {
   "cell_type": "code",
   "execution_count": null,
   "metadata": {},
   "outputs": [],
   "source": []
  },
  {
   "cell_type": "markdown",
   "metadata": {},
   "source": [
    "# Example"
   ]
  },
  {
   "cell_type": "code",
   "execution_count": 302,
   "metadata": {},
   "outputs": [
    {
     "data": {
      "image/png": "[encoded data removed]",
      "text/plain": [
       "<Figure size 432x288 with 1 Axes>"
      ]
     },
     "metadata": {
      "needs_background": "light"
     },
     "output_type": "display_data"
    },
    {
     "name": "stdout",
     "output_type": "stream",
     "text": [
      "[[14  0  0]\n",
      " [ 0 14  1]\n",
      " [ 0  0 16]]\n",
      "              precision    recall  f1-score   support\n",
      "\n",
      "           0       1.00      1.00      1.00        14\n",
      "           1       1.00      0.93      0.97        15\n",
      "           2       0.94      1.00      0.97        16\n",
      "\n",
      "   micro avg       0.98      0.98      0.98        45\n",
      "   macro avg       0.98      0.98      0.98        45\n",
      "weighted avg       0.98      0.98      0.98        45\n",
      "\n"
     ]
    }
   ],
   "source": [
    "from sklearn.decomposition import PCA\n",
    "from sklearn.datasets import load_iris\n",
    "from sklearn import svm\n",
    "from sklearn import model_selection\n",
    "import pylab as pl\n",
    "import numpy as np\n",
    "iris = load_iris()\n",
    "X_train, X_test, y_train, y_test =   model_selection.train_test_split(iris.data,   iris.target, test_size=0.30, random_state=111)\n",
    "pca = PCA(n_components=2).fit(X_train)\n",
    "pca_2d = pca.transform(X_train)\n",
    "svmClassifier_2d =   svm.LinearSVC(random_state=111).fit(   pca_2d, y_train)\n",
    "for i in range(0, pca_2d.shape[0]):\n",
    "    if y_train[i] == 0:\n",
    "        c1 = pl.scatter(pca_2d[i,0],pca_2d[i,1],c='r',    s=50,marker='+')\n",
    "    elif y_train[i] == 1:\n",
    "        c2 = pl.scatter(pca_2d[i,0],pca_2d[i,1],c='g',    s=50,marker='o')\n",
    "    elif y_train[i] == 2:\n",
    "        c3 = pl.scatter(pca_2d[i,0],pca_2d[i,1],c='b',    s=50,marker='*')\n",
    "pl.legend([c1, c2, c3], ['Setosa', 'Versicolor',   'Virginica'])\n",
    "x_min, x_max = pca_2d[:, 0].min() - 1,   pca_2d[:,0].max() + 1\n",
    "y_min, y_max = pca_2d[:, 1].min() - 1,   pca_2d[:, 1].max() + 1\n",
    "xx, yy = np.meshgrid(np.arange(x_min, x_max, .01),   np.arange(y_min, y_max, .01))\n",
    "Z = svmClassifier_2d.predict(np.c_[xx.ravel(),  yy.ravel()])\n",
    "Z = Z.reshape(xx.shape)\n",
    "pl.contour(xx, yy, Z)\n",
    "pl.title('Support Vector Machine Decision Surface')\n",
    "pl.axis('off')\n",
    "pl.show()\n",
    "pca2 = PCA(n_components=2).fit(X_test)\n",
    "pca2_2d = pca.transform(X_test)\n",
    "y_pred_2 = svmClassifier_2d.predict(pca2_2d)\n",
    "print(metrics.confusion_matrix(y_test,y_pred_2))\n",
    "print(metrics.classification_report(y_test,y_pred_2))"
   ]
  },
  {
   "cell_type": "code",
   "execution_count": null,
   "metadata": {},
   "outputs": [],
   "source": []
  }
 ],
 "metadata": {
  "kernelspec": {
   "display_name": "Python 2",
   "language": "python",
   "name": "python2"
  },
  "language_info": {
   "codemirror_mode": {
    "name": "ipython",
    "version": 2
   },
   "file_extension": ".py",
   "mimetype": "text/x-python",
   "name": "python",
   "nbconvert_exporter": "python",
   "pygments_lexer": "ipython2",
   "version": "2.7.13"
  }
 },
 "nbformat": 4,
 "nbformat_minor": 2
}
